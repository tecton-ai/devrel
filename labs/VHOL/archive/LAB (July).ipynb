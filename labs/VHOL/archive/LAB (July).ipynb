{
  "cells": [
    {
      "cell_type": "code",
      "execution_count": null,
      "metadata": {
        "application/vnd.databricks.v1+cell": {
          "cellMetadata": {
            "byteLimit": 2048000,
            "rowLimit": 10000
          },
          "inputWidgets": {},
          "nuid": "940bdbe5-2963-4678-ac12-9a5b5d43b926",
          "showTitle": false,
          "title": ""
        },
        "id": "8pcXtTttj1-j"
      },
      "outputs": [],
      "source": [
        "# import tecton and other libraries\n",
        "import os\n",
        "import tecton\n",
        "import pandas as pd\n",
        "from datetime import datetime, timedelta\n",
        "\n",
        "ws = tecton.get_workspace('prod')"
      ]
    },
    {
      "cell_type": "markdown",
      "metadata": {
        "application/vnd.databricks.v1+cell": {
          "cellMetadata": {
            "byteLimit": 2048000,
            "rowLimit": 10000
          },
          "inputWidgets": {},
          "nuid": "c5af3b14-b77f-42ad-96db-410b0adce2b2",
          "showTitle": false,
          "title": ""
        },
        "id": "MXNCNXLjj1-j"
      },
      "source": [
        "# Data Sources\n",
        "First we will be creating a connection to Tecton from a batch data source. Once a data source is defined in Tecton, it can be used to build features. The code below shows allows Tecton to read data on demonstrating example transactions. It was been added to your workspace already."
      ]
    },
    {
      "cell_type": "markdown",
      "metadata": {
        "application/vnd.databricks.v1+cell": {
          "cellMetadata": {
            "byteLimit": 2048000,
            "rowLimit": 10000
          },
          "inputWidgets": {},
          "nuid": "05e2a1ef-603d-4b99-9b07-166cc4632c40",
          "showTitle": false,
          "title": ""
        },
        "id": "73LaostKj1-k"
      },
      "source": [
        "```\n",
        "from tecton import BatchSource, FileConfig\n",
        "from datetime import datetime, timedelta\n",
        "\n",
        "transactions = BatchSource(\n",
        "    name=\"transactions\",\n",
        "    batch_config=FileConfig(\n",
        "        uri=\"s3://tecton.ai.public/tutorials/fraud_demo/transactions/data.pq\",\n",
        "        file_format=\"parquet\",\n",
        "        timestamp_field=\"timestamp\",\n",
        "    ),\n",
        ")\n",
        "```"
      ]
    },
    {
      "cell_type": "markdown",
      "metadata": {
        "application/vnd.databricks.v1+cell": {
          "cellMetadata": {},
          "inputWidgets": {},
          "nuid": "e607088d-f9a5-4e7d-a742-91fa90de857e",
          "showTitle": false,
          "title": ""
        },
        "id": "vzvrwVU9j1-k"
      },
      "source": [
        "Use the example above to create a customers BatchSource with\n",
        "* The **name** as ***customers***\n",
        "* **uri** being ***s3://tecton.ai.public/tutorials/fraud_demo/customers/data.pq***\n",
        "* The same **file_format** as above\n",
        "* The **timestamp_field** of ***signup_timestamp***"
      ]
    },
    {
      "cell_type": "code",
      "execution_count": null,
      "metadata": {
        "application/vnd.databricks.v1+cell": {
          "cellMetadata": {},
          "inputWidgets": {},
          "nuid": "48660964-adee-494b-8a46-8ba1ff4928d3",
          "showTitle": false,
          "title": ""
        },
        "id": "Exjrz54-j1-k"
      },
      "outputs": [],
      "source": [
        "## add import statements here\n",
        "\n",
        "\n",
        "## add BatchSource definition here\n",
        "customers = BatchSource()"
      ]
    },
    {
      "cell_type": "markdown",
      "metadata": {
        "application/vnd.databricks.v1+cell": {
          "cellMetadata": {},
          "inputWidgets": {},
          "nuid": "eb7bde47-8330-4b1f-9298-3ecd5aaeec43",
          "showTitle": false,
          "title": ""
        },
        "id": "ptc_3iJEj1-k"
      },
      "source": [
        "# Features Views\n",
        "With some data sources defined, we can build features views off them. *Feature views* are used by Tecton to define how, when, and where it will materialize features. Feature views can be either Batch FeatureViews, Stream Feature Views, or On-Demand Feature Views. Below, is an example of an incomplete Batch Feature View."
      ]
    },
    {
      "cell_type": "markdown",
      "metadata": {
        "application/vnd.databricks.v1+cell": {
          "cellMetadata": {},
          "inputWidgets": {},
          "nuid": "14de98f2-0dc4-4a9c-a196-d596ced51c2e",
          "showTitle": false,
          "title": ""
        },
        "id": "JfLH7SQyj1-k"
      },
      "source": [
        "```\n",
        "from tecton import Entity, BatchSource, FileConfig, batch_feature_view, FilteredSource\n",
        "from datetime import datetime, timedelta\n",
        "\n",
        "user = Entity(name=\"user\", join_keys=[\"user_id\"])\n",
        "\n",
        "@batch_feature_view(\n",
        "    sources=[FilteredSource(customers)],\n",
        "    entities=[user],\n",
        "    mode=\"spark_sql\",\n",
        "    batch_schedule=timedelta(days=1),\n",
        "    ttl=timedelta(days=3650),\n",
        ")\n",
        "def user_credit_card_issuer(customers):\n",
        "    return f\"\"\"\n",
        "        SELECT\n",
        "            user_id,\n",
        "            signup_timestamp,\n",
        "            CASE SUBSTRING(CAST(cc_num AS STRING), 0, 1)\n",
        "                WHEN '4' THEN 'Visa'\n",
        "                ELSE 'other'\n",
        "            END as credit_card_issuer\n",
        "        FROM\n",
        "            {customers}\n",
        "        \"\"\"\n",
        "```"
      ]
    },
    {
      "cell_type": "markdown",
      "metadata": {
        "application/vnd.databricks.v1+cell": {
          "cellMetadata": {},
          "inputWidgets": {},
          "nuid": "7f33447e-c332-488b-8bb1-959b49c9be73",
          "showTitle": false,
          "title": ""
        },
        "id": "sK7YdvcFj1-k"
      },
      "source": [
        "In the empty cell below, redefine the feature to include the cases when a **'5'** appears to be ***'MasterCard'*** and when **'6'** appears to be ***'Discover'***\n",
        "\n",
        "Afterwords, running the validate() cell will ensure that Tecton can reach the specified data source and it is has the proper schema"
      ]
    },
    {
      "cell_type": "code",
      "execution_count": null,
      "metadata": {
        "application/vnd.databricks.v1+cell": {
          "cellMetadata": {},
          "inputWidgets": {},
          "nuid": "2f19bec2-2c42-4ffc-94ab-b0a00a1b4f29",
          "showTitle": false,
          "title": ""
        },
        "id": "V3Elf45wj1-l"
      },
      "outputs": [],
      "source": []
    },
    {
      "cell_type": "code",
      "execution_count": null,
      "metadata": {
        "application/vnd.databricks.v1+cell": {
          "cellMetadata": {},
          "inputWidgets": {},
          "nuid": "c2f36399-8688-4ba6-b618-c2c4dc8fe5bb",
          "showTitle": false,
          "title": ""
        },
        "id": "VV4WPugKj1-l"
      },
      "outputs": [],
      "source": [
        "user_credit_card_issuer.validate()"
      ]
    },
    {
      "cell_type": "markdown",
      "metadata": {
        "application/vnd.databricks.v1+cell": {
          "cellMetadata": {
            "byteLimit": 2048000,
            "rowLimit": 10000
          },
          "inputWidgets": {},
          "nuid": "b9769ac6-0df5-44a9-bcad-fbb17927e632",
          "showTitle": false,
          "title": ""
        },
        "id": "pDWPzrbyj1-l"
      },
      "source": [
        "# Feature Views with Aggregations\n",
        "Aggregations can simplify implementations of common powerful features. For this feature view, we will perform a number of different aggregations to show the average and total transaction amounts for each user of given time periods. We will be utilizing just two, but Tecton provides [many different aggregations.](https://docs.tecton.ai/docs/sdk-reference/time-window-aggregation-functions#docusaurus_skipToContent_fallback)"
      ]
    },
    {
      "cell_type": "markdown",
      "metadata": {
        "application/vnd.databricks.v1+cell": {
          "cellMetadata": {},
          "inputWidgets": {},
          "nuid": "e801ed51-0fc8-4df5-bcc9-50b604b261d1",
          "showTitle": false,
          "title": ""
        },
        "id": "XkxfrsNtj1-l"
      },
      "source": [
        "```\n",
        "from tecton import Aggregation, batch_feature_view, Entity, FilteredSource\n",
        "from datetime import datetime, timedelta\n",
        "\n",
        "transactions = ws.get_data_source(\"transactions\")\n",
        "\n",
        "@batch_feature_view(\n",
        "    sources=[FilteredSource(transactions)],\n",
        "    entities=[user],\n",
        "    mode=\"spark_sql\",\n",
        "    batch_schedule=timedelta(days=1),\n",
        "    aggregation_interval=timedelta(minutes=5),\n",
        "    aggregations=[\n",
        "        Aggregation(column=\"amt\", function=\"count\", time_window=timedelta(minutes=15)),\n",
        "        Aggregation(column=\"amt\", function=\"count\", time_window=timedelta(minutes=30)),\n",
        "        Aggregation(column=\"amt\", function=\"count\", time_window=timedelta(hours=1)),\n",
        "        Aggregation(column=\"amt\", function=\"sum\", time_window=timedelta(minutes=15)),\n",
        "        Aggregation(column=\"amt\", function=\"sum\", time_window=timedelta(minutes=30)),\n",
        "        Aggregation(column=\"amt\", function=\"sum\", time_window=timedelta(hours=1)),\n",
        "    ],\n",
        "    online=True,\n",
        "    offline=True,\n",
        "    feature_start_time=datetime(2020, 10, 10),\n",
        "    tags={'release': 'production'},\n",
        "    owner='kevin@tecton.ai',\n",
        "    description='Transaction amount statistics and total over a series of time windows, updated hourly.'\n",
        ")\n",
        "def user_transaction_amount_metrics(transactions):\n",
        "    return f'''\n",
        "        SELECT\n",
        "            user_id,\n",
        "            amt,\n",
        "            timestamp\n",
        "        FROM\n",
        "            {transactions}\n",
        "        '''\n",
        "```"
      ]
    },
    {
      "cell_type": "markdown",
      "metadata": {
        "application/vnd.databricks.v1+cell": {
          "cellMetadata": {},
          "inputWidgets": {},
          "nuid": "04e89830-ade6-4155-a829-2eb74aabc08b",
          "showTitle": false,
          "title": ""
        },
        "id": "VlVwF07Hj1-l"
      },
      "source": [
        "In the empty cell below, create a batch_feature_view with the following changes:\n",
        "\n",
        "* Change the **aggregation_interval** from *5 minutes* to ***days=1***.\n",
        "  * This will match our batch_schedule\n",
        "* Change the **15 minute**, **30 minute** and **1 hour** intervals to ***days=1***, ***days=7***, ***days=28***\n",
        "  * Because this batch source is being refreshed just once daily, aggregates that are not longer than that a daily interval will not be helpful.\n",
        "* Change the aggregations using **count** to use ***mean***"
      ]
    },
    {
      "cell_type": "code",
      "execution_count": null,
      "metadata": {
        "application/vnd.databricks.v1+cell": {
          "cellMetadata": {},
          "inputWidgets": {},
          "nuid": "886f56c4-a0a2-4e66-9bc7-48edf58c9fc3",
          "showTitle": false,
          "title": ""
        },
        "id": "maBPgcRBj1-l"
      },
      "outputs": [],
      "source": []
    },
    {
      "cell_type": "code",
      "execution_count": null,
      "metadata": {
        "application/vnd.databricks.v1+cell": {
          "cellMetadata": {},
          "inputWidgets": {},
          "nuid": "fc9a7f18-96bf-4701-b3e7-d240ae23f9a7",
          "showTitle": false,
          "title": ""
        },
        "id": "sBGAF4BTj1-l"
      },
      "outputs": [],
      "source": [
        "user_transaction_amount_metrics.validate()"
      ]
    },
    {
      "cell_type": "markdown",
      "metadata": {
        "application/vnd.databricks.v1+cell": {
          "cellMetadata": {},
          "inputWidgets": {},
          "nuid": "0607cb41-654b-4061-89a8-83154bc0c4fc",
          "showTitle": false,
          "title": ""
        },
        "id": "Sq1pbLMpj1-l"
      },
      "source": [
        "# On-Demand Feature Views\n",
        "An On-Demand Feature View is used to run row-level, request-time transformations on data from Request Sources, Batch Feature Views, or Stream Feature Views. Unlike Batch and Stream Feature Views, On-Demand Feature Views do not precompute and materialize data to the Feature Store, but instead run transformations both online and offline at the time of the request.\n",
        "\n",
        "We can build on top of the feature view we just made to compare historical values to requests happening at transaction time. Run the cell below, which defines the input and output Tecton should expect at transaction time."
      ]
    },
    {
      "cell_type": "code",
      "execution_count": null,
      "metadata": {
        "application/vnd.databricks.v1+cell": {
          "cellMetadata": {},
          "inputWidgets": {},
          "nuid": "1a8c19e6-e2ba-487a-9e98-ea0611e5dc0e",
          "showTitle": false,
          "title": ""
        },
        "id": "eQkbZ8_-j1-l"
      },
      "outputs": [],
      "source": [
        "from tecton import RequestSource\n",
        "from tecton.types import Float64, Field, Bool\n",
        "\n",
        "request_schema = [Field('amt', Float64)]\n",
        "transaction_request = RequestSource(schema=request_schema)\n",
        "output_schema = [Field('transaction_amount_is_higher_than_7d_average', Bool)]"
      ]
    },
    {
      "cell_type": "markdown",
      "metadata": {
        "application/vnd.databricks.v1+cell": {
          "cellMetadata": {},
          "inputWidgets": {},
          "nuid": "f9f39870-cd07-45a8-96a8-2ffb570c5d4c",
          "showTitle": false,
          "title": ""
        },
        "id": "jqbFz6Adj1-l"
      },
      "source": [
        "We can use this new source to create an on_demand_feature_view below.\n",
        "\n",
        "The @on_demand_feature_view\n",
        "* will take in 2 **sources** as a list - the incoming **transaction_request** and the previously built feature **user_transaction_amount_metrics**.\n",
        "* The **mode** will be ***'python'***\n",
        "* The **schema** will be the **output_schema** that was just defined.\n",
        "\n",
        "We will define the incoming transaction amount being higher that the current 7 day average for a particular user as follows:\n",
        "```{python}\n",
        "amount_mean = 0 if user_transaction_amount_metrics['amt_mean_7d_1d'] is None else user_transaction_amount_metrics['amt_mean_7d_1d']\n",
        "    return {'transaction_amount_is_higher_than_7d_average': transaction_request['amt'] > amount_mean}\n",
        "```\n",
        "\n",
        "Use this as the feature definition and validate the on_demand_feature_view."
      ]
    },
    {
      "cell_type": "code",
      "execution_count": null,
      "metadata": {
        "application/vnd.databricks.v1+cell": {
          "cellMetadata": {},
          "inputWidgets": {},
          "nuid": "1a3662fa-91f7-4e9f-8853-15119183f02c",
          "showTitle": false,
          "title": ""
        },
        "id": "987Kzd5Zj1-m"
      },
      "outputs": [],
      "source": [
        "from tecton import on_demand_feature_view\n",
        "from tecton import RequestSource\n",
        "from tecton.types import Float64, Field, Bool\n",
        "\n",
        "user_transaction_amount_metrics = ws.get_feature_view('user_transaction_amount_metrics')\n",
        "\n",
        "@on_demand_feature_view(\n",
        "   #fill in with parameters described above\n",
        "\n",
        ")\n",
        "def transaction_amount_is_higher_than_7d_average(transaction_request, user_transaction_amount_metrics):\n",
        "    #definition goes here\n",
        "\n",
        "\n",
        "transaction_amount_is_higher_than_7d_average.validate()"
      ]
    },
    {
      "cell_type": "markdown",
      "metadata": {
        "application/vnd.databricks.v1+cell": {
          "cellMetadata": {},
          "inputWidgets": {},
          "nuid": "c1900640-9190-4e74-9de1-7499d3dfa5d7",
          "showTitle": false,
          "title": ""
        },
        "id": "5vS4K8aEj1-m"
      },
      "source": [
        "## go to [lab.tecton.ai](https://lab.tecton.ai)\n",
        "Tecton automatically builds on top of pre-existing features to materialize this one as new data comes in, orchestrates it together automatically with a the other feature views, and creates and runs the spark and python jobs necessary to keep every feature view updated"
      ]
    },
    {
      "cell_type": "markdown",
      "metadata": {
        "application/vnd.databricks.v1+cell": {
          "cellMetadata": {},
          "inputWidgets": {},
          "nuid": "2e07b122-9c28-4ae4-bde5-86c1593dd6c1",
          "showTitle": false,
          "title": ""
        },
        "id": "rjc6jFAxj1-m"
      },
      "source": [
        "# Feature Services\n",
        "\n",
        "A Feature Service refernces a set of features which are exposed as an API. It's generally recommended that each machine learning model has an associated Feature Service. We will create the a Feature Service with 3 of the Feature Views we just built:\n",
        "* user_credit_card_issuer\n",
        "* user_transaction_amount_metrics[['amt_mean_7d_1d']]\n",
        "* transaction_amount_is_higher_than_7d_average"
      ]
    },
    {
      "cell_type": "code",
      "execution_count": null,
      "metadata": {
        "application/vnd.databricks.v1+cell": {
          "cellMetadata": {},
          "inputWidgets": {},
          "nuid": "8409e6ca-1462-445f-aa2e-62646ac756c7",
          "showTitle": false,
          "title": ""
        },
        "id": "6VVIbCvIj1-m"
      },
      "outputs": [],
      "source": [
        "from tecton import FeatureService\n",
        "\n",
        "lab_fs = FeatureService(\n",
        "  name = 'lab_fs',\n",
        "  features = [\n",
        "    #add features here\n",
        "  ]\n",
        ")\n",
        "\n",
        "lab_fs.validate()"
      ]
    },
    {
      "cell_type": "markdown",
      "metadata": {
        "application/vnd.databricks.v1+cell": {
          "cellMetadata": {},
          "inputWidgets": {},
          "nuid": "983f9c02-664f-4b1a-82af-44e703802623",
          "showTitle": false,
          "title": ""
        },
        "id": "kEaI1wVWj1-m"
      },
      "source": [
        "# Feature Retrieval\n",
        "Now that all the features are defined in a feature set, we can generate data to send to machine learning models for training and serving."
      ]
    },
    {
      "cell_type": "markdown",
      "metadata": {
        "application/vnd.databricks.v1+cell": {
          "cellMetadata": {},
          "inputWidgets": {},
          "nuid": "c7781326-93b5-4894-9e2d-6809f110088d",
          "showTitle": false,
          "title": ""
        },
        "id": "lKLoq5stj1-m"
      },
      "source": [
        "Features are retrieved from the online store with HTTP requests for low latency. The cell below constructs an example request.\n",
        "\n",
        "Try changing the ***amt*** given in the ***request_data***"
      ]
    },
    {
      "cell_type": "code",
      "execution_count": null,
      "metadata": {
        "application/vnd.databricks.v1+cell": {
          "cellMetadata": {
            "byteLimit": 2048000,
            "rowLimit": 10000
          },
          "inputWidgets": {},
          "nuid": "56bcde45-ffd0-47a2-8ce7-a9dd9dbe2e0d",
          "showTitle": false,
          "title": ""
        },
        "id": "1Bk_NUh-j1-m"
      },
      "outputs": [],
      "source": [
        "import requests\n",
        "\n",
        "headers = {\"Authorization\": \"Tecton-key \" + dbutils.secrets.get(scope='tecton-lab', key='TECTON_API_KEY')}\n",
        "\n",
        "request_data = \"\"\"{\n",
        "  \"params\": {\n",
        "    \"feature_service_name\": \"lab_feature_service\",\n",
        "    \"join_key_map\": {\n",
        "     \"user_id\": \"user_469998441571\"\n",
        "    },\n",
        "    \"metadata_options\": {\n",
        "      \"include_names\": true\n",
        "    },\n",
        "    \"request_context_map\": {\n",
        "      \"amt\": 123\n",
        "    },\n",
        "    \"workspace_name\": \"prod\"\n",
        "  }\n",
        "}\"\"\"\n",
        "\n",
        "inference_feature_data = requests.request(\n",
        "    method=\"POST\",\n",
        "    headers=headers,\n",
        "    url=\"https://lab.tecton.ai/api/v1/feature-service/get-features\",\n",
        "    data=request_data,\n",
        ")\n",
        "print(inference_feature_data.text)"
      ]
    }
  ],
  "metadata": {
    "application/vnd.databricks.v1+notebook": {
      "dashboards": [],
      "language": "python",
      "notebookMetadata": {
        "pythonIndentUnit": 4
      },
      "notebookName": "LAB",
      "widgets": {}
    },
    "colab": {
      "provenance": []
    }
  },
  "nbformat": 4,
  "nbformat_minor": 0
}