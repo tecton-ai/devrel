{
  "cells": [
    {
      "cell_type": "code",
      "execution_count": null,
      "metadata": {
        "application/vnd.databricks.v1+cell": {
          "cellMetadata": {
            "byteLimit": 2048000,
            "rowLimit": 10000
          },
          "collapsed": true,
          "inputWidgets": {},
          "nuid": "3f1d58cf-51e2-4e03-aaa1-e921a2554ba0",
          "showTitle": false,
          "title": ""
        },
        "cellView": "form",
        "id": "aQkeJslMbujv"
      },
      "outputs": [],
      "source": [
        "# @title\n",
        "def setup_tecton_magic():\n",
        "    \"\"\"Setup the %tecton cell magic\"\"\"\n",
        "    from IPython.core.magic import register_line_cell_magic\n",
        "\n",
        "    @register_line_cell_magic\n",
        "    def tecton(line):\n",
        "        from shlex import split\n",
        "        from tecton_core import conf\n",
        "        from tecton.cli import cli as tecton_cli\n",
        "        from tecton.identities.credentials import who_am_i, ServiceAccountProfile\n",
        "\n",
        "        args = split(line)\n",
        "        # Special case \"login\" to support interactive authentication.\n",
        "        if args and args[0] == \"login\":\n",
        "            # I'm not sure what to call this flag.  \"--quiet\" didn't seem to fit and \"if-needed\" had weird highlighting.\n",
        "            if not (\"--when-needed\" in args and who_am_i()):\n",
        "                tecton_login = tecton_cli.login.callback.__wrapped__\n",
        "                profile = tecton_login(\n",
        "                    \"app.tecton.ai\", manual=True, okta_session_token=None\n",
        "                )\n",
        "            print(who_am_i())\n",
        "            return\n",
        "        # Authenticate if not already authenticated\n",
        "        profile = who_am_i()\n",
        "        if not profile:\n",
        "            tecton_login = tecton_cli.login.callback.__wrapped__\n",
        "            profile = tecton_login(\n",
        "                \"app.tecton.ai\", manual=True, okta_session_token=None\n",
        "            )\n",
        "        # Run all other commands via shell magic\n",
        "        ipython = get_ipython()\n",
        "        sh_magic = ipython.magics_manager.lsmagic()[\"cell\"][\"sh\"]\n",
        "        if isinstance(profile, ServiceAccountProfile):\n",
        "            api_key = conf.get_or_none(\"TECTON_API_KEY\")\n",
        "            api_service = conf.get_or_none(\"API_SERVICE\")\n",
        "            ## TODO: Additional validation on the injected variables below should be done to mitigate the risk of a shell injection attack vector.  api_key, api_service and line should all have validation done.  line's validation might be as simple as checking for a semicolon, since that input comes from the user directly.  whereas API_KEY and API_SERVICE are from a config file that an attacker might modify.\n",
        "            sh_magic(\n",
        "                None,\n",
        "                f\"TECTON_API_KEY='{api_key}' API_SERVICE='{api_service}' tecton {line}; true\",\n",
        "            )\n",
        "        else:\n",
        "            sh_magic(None, f\"tecton {line}; true\")\n",
        "        return"
      ]
    },
    {
      "cell_type": "code",
      "execution_count": null,
      "metadata": {
        "application/vnd.databricks.v1+cell": {
          "cellMetadata": {
            "byteLimit": 2048000,
            "rowLimit": 10000
          },
          "inputWidgets": {},
          "nuid": "b4b9c805-822f-4344-8c0c-a60cc295dc25",
          "showTitle": false,
          "title": ""
        },
        "id": "1wLUx_N_bujx"
      },
      "outputs": [],
      "source": [
        "setup_tecton_magic()"
      ]
    },
    {
      "cell_type": "code",
      "execution_count": null,
      "metadata": {
        "application/vnd.databricks.v1+cell": {
          "cellMetadata": {
            "byteLimit": 2048000,
            "rowLimit": 10000
          },
          "inputWidgets": {},
          "nuid": "fd01419f-a04e-4c9e-bb3a-4e7fea2fc7f2",
          "showTitle": false,
          "title": ""
        },
        "id": "5YkVbWn8bujx"
      },
      "outputs": [],
      "source": [
        "%tecton whoami"
      ]
    },
    {
      "cell_type": "code",
      "execution_count": null,
      "metadata": {
        "application/vnd.databricks.v1+cell": {
          "cellMetadata": {
            "byteLimit": 2048000,
            "rowLimit": 10000
          },
          "inputWidgets": {},
          "nuid": "5ebfac13-d77d-4681-b520-611e5b90c2e7",
          "showTitle": false,
          "title": ""
        },
        "id": "0rp47J7mbujy"
      },
      "outputs": [],
      "source": [
        "%tecton login"
      ]
    },
    {
      "cell_type": "code",
      "execution_count": null,
      "metadata": {
        "application/vnd.databricks.v1+cell": {
          "cellMetadata": {
            "byteLimit": 2048000,
            "rowLimit": 10000
          },
          "inputWidgets": {},
          "nuid": "5e465a6d-caab-441f-b33c-4390fc7c836b",
          "showTitle": false,
          "title": ""
        },
        "id": "uUdB1qmPbujy"
      },
      "outputs": [],
      "source": [
        "%tecton login --when-needed"
      ]
    },
    {
      "cell_type": "code",
      "execution_count": null,
      "metadata": {
        "application/vnd.databricks.v1+cell": {
          "cellMetadata": {
            "byteLimit": 2048000,
            "rowLimit": 10000
          },
          "inputWidgets": {},
          "nuid": "cfe9e343-06f7-4277-9c2d-280e962b7b79",
          "showTitle": false,
          "title": ""
        },
        "id": "ni_Rq6OLbujy"
      },
      "outputs": [],
      "source": [
        "dev_workspace = \"ci-cd-example-dev\"\n",
        "test_workspace = \"ci-cd-example-test\"\n",
        "prod_workspace = \"ci-cd-example-prod\"\n",
        "\n",
        "workspaces = [dev_workspace, test_workspace, prod_workspace]"
      ]
    },
    {
      "cell_type": "code",
      "execution_count": null,
      "metadata": {
        "application/vnd.databricks.v1+cell": {
          "cellMetadata": {
            "byteLimit": 2048000,
            "rowLimit": 10000
          },
          "inputWidgets": {},
          "nuid": "12b48272-55b1-4c52-9614-fe3a3c93e7e4",
          "showTitle": false,
          "title": ""
        },
        "id": "LAW-eZLwbujy"
      },
      "outputs": [],
      "source": [
        "%tecton workspace create $dev_workspace\n",
        "%tecton init"
      ]
    },
    {
      "cell_type": "code",
      "execution_count": null,
      "metadata": {
        "application/vnd.databricks.v1+cell": {
          "cellMetadata": {
            "byteLimit": 2048000,
            "rowLimit": 10000
          },
          "inputWidgets": {},
          "nuid": "32dc9415-3f3e-4d09-9481-d71c49aa857e",
          "showTitle": false,
          "title": ""
        },
        "id": "G456GXi6bujy"
      },
      "outputs": [],
      "source": [
        "from tecton import Entity, BatchSource, FileConfig, batch_feature_view, Aggregation\n",
        "from datetime import datetime, timedelta\n",
        "\n",
        "transactions = BatchSource(\n",
        "    name=\"transactions\",\n",
        "    batch_config=FileConfig(\n",
        "        uri=\"s3://tecton.ai.public/tutorials/fraud_demo/transactions/data.pq\",\n",
        "        file_format=\"parquet\",\n",
        "        timestamp_field=\"timestamp\",\n",
        "    ),\n",
        ")\n",
        "user = Entity(name=\"user\", join_keys=[\"user_id\"])\n",
        "\n",
        "\n",
        "@batch_feature_view(\n",
        "    description=\"User transaction metrics over 1, 3 and 7 days\",\n",
        "    sources=[transactions],\n",
        "    entities=[user],\n",
        "    mode=\"spark_sql\",\n",
        "    aggregation_interval=timedelta(days=1),\n",
        "    aggregations=[Aggregation(function=\"mean\", column=\"amt\", time_window=timedelta(days=1)),],\n",
        ")\n",
        "def user_transaction_metrics(transactions):\n",
        "    return f\"\"\"\n",
        "        SELECT user_id, timestamp, amt\n",
        "        FROM {transactions}\n",
        "        \"\"\"\n",
        "\n",
        "user_transaction_metrics.validate()"
      ]
    },
    {
      "cell_type": "code",
      "execution_count": null,
      "metadata": {
        "application/vnd.databricks.v1+cell": {
          "cellMetadata": {
            "byteLimit": 2048000,
            "rowLimit": 10000
          },
          "inputWidgets": {},
          "nuid": "612f858e-8adb-478e-ac18-3f28208be2ba",
          "showTitle": false,
          "title": ""
        },
        "id": "YNiPiZjmbujy"
      },
      "outputs": [],
      "source": [
        "start = datetime(2022, 1, 1)\n",
        "end = datetime(2022, 2, 1)\n",
        "\n",
        "df = user_transaction_metrics.get_historical_features(start_time=start, end_time=end).to_pandas()\n",
        "\n",
        "display(df.head(5))"
      ]
    },
    {
      "cell_type": "code",
      "execution_count": null,
      "metadata": {
        "application/vnd.databricks.v1+cell": {
          "cellMetadata": {
            "byteLimit": 2048000,
            "rowLimit": 10000
          },
          "inputWidgets": {},
          "nuid": "692c7a89-5bc5-4e5a-a822-c5c311e83f33",
          "showTitle": false,
          "title": ""
        },
        "id": "avaCIB0sbujz"
      },
      "outputs": [],
      "source": [
        "%%writefile features.py\n",
        "from tecton import Entity, BatchSource, FileConfig, batch_feature_view, Aggregation\n",
        "from datetime import datetime, timedelta\n",
        "\n",
        "transactions = BatchSource(\n",
        "    name=\"transactions\",\n",
        "    batch_config=FileConfig(\n",
        "        uri=\"s3://tecton.ai.public/tutorials/fraud_demo/transactions/data.pq\",\n",
        "        file_format=\"parquet\",\n",
        "        timestamp_field=\"timestamp\",\n",
        "    ),\n",
        ")\n",
        "user = Entity(name=\"user\", join_keys=[\"user_id\"])\n",
        "\n",
        "\n",
        "@batch_feature_view(\n",
        "    description=\"User transaction metrics over 1, 3 and 7 days\",\n",
        "    sources=[transactions],\n",
        "    entities=[user],\n",
        "    mode=\"spark_sql\",\n",
        "    aggregation_interval=timedelta(days=1),\n",
        "    aggregations=[Aggregation(function=\"mean\", column=\"amt\", time_window=timedelta(days=1)),],\n",
        ")\n",
        "def user_transaction_metrics(transactions):\n",
        "    return f\"\"\"\n",
        "        SELECT user_id, timestamp, amt\n",
        "        FROM {transactions}\n",
        "        \"\"\""
      ]
    },
    {
      "cell_type": "code",
      "execution_count": null,
      "metadata": {
        "application/vnd.databricks.v1+cell": {
          "cellMetadata": {
            "byteLimit": 2048000,
            "rowLimit": 10000
          },
          "inputWidgets": {},
          "nuid": "bb9cc519-d0a8-47a0-9c72-9c305d23f846",
          "showTitle": false,
          "title": ""
        },
        "id": "_GR6b7sLbujz"
      },
      "outputs": [],
      "source": [
        "%tecton apply -y"
      ]
    },
    {
      "cell_type": "code",
      "execution_count": null,
      "metadata": {
        "application/vnd.databricks.v1+cell": {
          "cellMetadata": {
            "byteLimit": 2048000,
            "rowLimit": 10000
          },
          "inputWidgets": {},
          "nuid": "96fbb4fe-6adb-4944-ab4c-22c7bdbaf098",
          "showTitle": false,
          "title": ""
        },
        "id": "wSHzeSrGbujz"
      },
      "outputs": [],
      "source": [
        "%tecton workspace create $test_workspace --live\n",
        "%tecton init"
      ]
    },
    {
      "cell_type": "code",
      "execution_count": null,
      "metadata": {
        "application/vnd.databricks.v1+cell": {
          "cellMetadata": {
            "byteLimit": 2048000,
            "rowLimit": 10000
          },
          "inputWidgets": {},
          "nuid": "dcd4ac14-df03-4db7-ac28-e584cbc1f9b2",
          "showTitle": false,
          "title": ""
        },
        "id": "GHGRmWngbujz"
      },
      "outputs": [],
      "source": [
        "%%writefile features.py\n",
        "from tecton import Entity, BatchSource, FileConfig, batch_feature_view, Aggregation\n",
        "from datetime import datetime, timedelta\n",
        "\n",
        "transactions = BatchSource(\n",
        "    name=\"transactions\",\n",
        "    batch_config=FileConfig(\n",
        "        uri=\"s3://tecton.ai.public/tutorials/fraud_demo/transactions/data.pq\",\n",
        "        file_format=\"parquet\",\n",
        "        timestamp_field=\"timestamp\",\n",
        "    ),\n",
        ")\n",
        "user = Entity(name=\"user\", join_keys=[\"user_id\"])\n",
        "\n",
        "\n",
        "@batch_feature_view(\n",
        "    description=\"User transaction metrics over 1, 3 and 7 days\",\n",
        "    sources=[transactions],\n",
        "    entities=[user],\n",
        "    mode=\"spark_sql\",\n",
        "    aggregation_interval=timedelta(days=1),\n",
        "    aggregations=[Aggregation(function=\"mean\", column=\"amt\", time_window=timedelta(days=1)),],\n",
        "    offline=True,\n",
        "    online=True,\n",
        "    feature_start_time=datetime(2023, 1, 1)\n",
        ")\n",
        "def user_transaction_metrics(transactions):\n",
        "    return f\"\"\"\n",
        "        SELECT user_id, timestamp, amt\n",
        "        FROM {transactions}\n",
        "        \"\"\""
      ]
    },
    {
      "cell_type": "code",
      "execution_count": null,
      "metadata": {
        "application/vnd.databricks.v1+cell": {
          "cellMetadata": {
            "byteLimit": 2048000,
            "rowLimit": 10000
          },
          "inputWidgets": {},
          "nuid": "f9974600-f06c-414a-802d-677597452326",
          "showTitle": false,
          "title": ""
        },
        "id": "0Xuj6rFjbujz"
      },
      "outputs": [],
      "source": [
        "%tecton apply -y"
      ]
    },
    {
      "cell_type": "code",
      "execution_count": null,
      "metadata": {
        "application/vnd.databricks.v1+cell": {
          "cellMetadata": {
            "byteLimit": 2048000,
            "rowLimit": 10000
          },
          "inputWidgets": {},
          "nuid": "487018d8-c4e7-4162-9c4b-50309ee00f50",
          "showTitle": false,
          "title": ""
        },
        "id": "4qGWiQHWbujz"
      },
      "outputs": [],
      "source": [
        "%tecton workspace create $prod_workspace --live\n",
        "%tecton init"
      ]
    },
    {
      "cell_type": "code",
      "execution_count": null,
      "metadata": {
        "application/vnd.databricks.v1+cell": {
          "cellMetadata": {
            "byteLimit": 2048000,
            "rowLimit": 10000
          },
          "inputWidgets": {},
          "nuid": "c4f9e9ed-a36a-4929-933d-73f217b00736",
          "showTitle": false,
          "title": ""
        },
        "id": "9KO1t54dbuj0"
      },
      "outputs": [],
      "source": [
        "%%writefile features.py\n",
        "from tecton import Entity, BatchSource, FileConfig, batch_feature_view, Aggregation\n",
        "from datetime import datetime, timedelta\n",
        "\n",
        "transactions = BatchSource(\n",
        "    name=\"transactions\",\n",
        "    batch_config=FileConfig(\n",
        "        uri=\"s3://tecton.ai.public/tutorials/fraud_demo/transactions/data.pq\",\n",
        "        file_format=\"parquet\",\n",
        "        timestamp_field=\"timestamp\",\n",
        "    ),\n",
        ")\n",
        "user = Entity(name=\"user\", join_keys=[\"user_id\"])\n",
        "\n",
        "\n",
        "@batch_feature_view(\n",
        "    description=\"User transaction metrics over 1, 3 and 7 days\",\n",
        "    sources=[transactions],\n",
        "    entities=[user],\n",
        "    mode=\"spark_sql\",\n",
        "    aggregation_interval=timedelta(days=1),\n",
        "    aggregations=[Aggregation(function=\"mean\", column=\"amt\", time_window=timedelta(days=1)),],\n",
        "    offline=True,\n",
        "    online=True,\n",
        "    feature_start_time=datetime(2013, 1, 1)\n",
        ")\n",
        "def user_transaction_metrics(transactions):\n",
        "    return f\"\"\"\n",
        "        SELECT user_id, timestamp, amt\n",
        "        FROM {transactions}\n",
        "        \"\"\""
      ]
    },
    {
      "cell_type": "code",
      "execution_count": null,
      "metadata": {
        "application/vnd.databricks.v1+cell": {
          "cellMetadata": {
            "byteLimit": 2048000,
            "rowLimit": 10000
          },
          "inputWidgets": {},
          "nuid": "030d2a6d-ec43-4427-8edb-d8b97b5046e7",
          "showTitle": false,
          "title": ""
        },
        "id": "Joziogljbuj0"
      },
      "outputs": [],
      "source": [
        "%tecton apply"
      ]
    },
    {
      "cell_type": "code",
      "execution_count": null,
      "metadata": {
        "application/vnd.databricks.v1+cell": {
          "cellMetadata": {
            "byteLimit": 2048000,
            "rowLimit": 10000
          },
          "inputWidgets": {},
          "nuid": "daf84a22-4ef8-47cb-86b0-18f34b4b0237",
          "showTitle": false,
          "title": ""
        },
        "id": "hJ7e4Mbybuj0"
      },
      "outputs": [],
      "source": [
        "for workspace in workspaces:\n",
        "  %tecton destroy --workspace $workspace -y"
      ]
    }
  ],
  "metadata": {
    "application/vnd.databricks.v1+notebook": {
      "dashboards": [],
      "language": "python",
      "notebookMetadata": {
        "mostRecentlyExecutedCommandWithImplicitDF": {
          "commandId": 2403967661825642,
          "dataframes": [
            "_sqldf"
          ]
        },
        "pythonIndentUnit": 4
      },
      "notebookName": "Tecton CI CD",
      "widgets": {}
    },
    "colab": {
      "provenance": []
    }
  },
  "nbformat": 4,
  "nbformat_minor": 0
}