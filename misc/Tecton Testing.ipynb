{
  "cells": [
    {
      "cell_type": "markdown",
      "source": [
        "# Tecton Testing\n",
        "This notebook sets up a Tecton with Rift in Colab and provides a demonstration on using interactive testing and testing in production with Tecton features. You will need a Tecton account with Rift in order to run this notebook, to sign up please see more information on [this page](https://resources.tecton.ai/rift). ***This notebook will not materialize any Tecton Feature Views or Feature Services that will incur costs to your Tecton account.***"
      ],
      "metadata": {
        "id": "BzizctT5PcMZ"
      },
      "id": "BzizctT5PcMZ"
    },
    {
      "cell_type": "markdown",
      "source": [
        "## Setting up Tecton with Rift in Colab\n",
        "The cell below installs Tecton on Colab and sets up the directories and files we will need to run Tecton tests.\n",
        "\n",
        "The two cells following that use IPython libraries to finish setup. One restarts the Colab kernel so the you enviornment can access the newly installed Tecton (feel free to ignore a colab error message that may pop up in the bottom lefthand corner after executing this cell). The other IPython will allow you to both execute a cell's code and save it as a file for unit testing.\n",
        "\n",
        "Finally, the last two cells in this section login to Tecton. You can request a Tecton account with Rift [here](https://resources.tecton.ai/rift)."
      ],
      "metadata": {
        "id": "DGEaeilYP_x5"
      },
      "id": "DGEaeilYP_x5"
    },
    {
      "cell_type": "code",
      "execution_count": null,
      "metadata": {
        "id": "1Z2I3q-tEdTC"
      },
      "outputs": [],
      "source": [
        "!pip install virtualenv\n",
        "!virtualenv tecton\n",
        "!source tecton/bin/activate\n",
        "!pip install 'tecton[rift]==0.8.0rc1'\n",
        "!mkdir tecton-testing\n",
        "%cd tecton-testing\n",
        "!mkdir features\n",
        "!mkdir tests\n",
        "!touch ./features/transaction_amount_is_high.py\n",
        "!touch ./tests/transaction_amount_is_high.py\n",
        "!tecton init"
      ],
      "id": "1Z2I3q-tEdTC"
    },
    {
      "cell_type": "code",
      "source": [
        "# Restart kernel after installs so that your environment can access the new packages\n",
        "import IPython\n",
        "import time\n",
        "\n",
        "app = IPython.Application.instance()\n",
        "app.kernel.do_shutdown(True)"
      ],
      "metadata": {
        "id": "kH4r-b0QyK9w"
      },
      "id": "kH4r-b0QyK9w",
      "execution_count": null,
      "outputs": []
    },
    {
      "cell_type": "code",
      "execution_count": null,
      "metadata": {
        "id": "cOJ42tPQEdTA"
      },
      "outputs": [],
      "source": [
        "# This cell allows us to both run Tecton feature definitions interactively\n",
        "# and save feature definitions to test in production\n",
        "from IPython.core.magic import register_cell_magic\n",
        "@register_cell_magic\n",
        "def run_and_save(line, cell):\n",
        "    with open(line, 'wt') as fd:\n",
        "        fd.write(cell)\n",
        "    code = compile(cell, line, 'exec')\n",
        "    exec(code, globals())"
      ],
      "id": "cOJ42tPQEdTA"
    },
    {
      "cell_type": "code",
      "execution_count": null,
      "metadata": {
        "id": "c9V6zXprEdTE"
      },
      "outputs": [],
      "source": [
        "import tecton\n",
        "tecton.login('YOUR-RIFT-ACCOUNT.tecton.ai')\n",
        "%cd tecton-testing"
      ],
      "id": "c9V6zXprEdTE"
    },
    {
      "cell_type": "code",
      "source": [
        "!tecton login --manual YOUR-RIFT-ACCOUNT.tecton.ai\n",
        "!tecton workspace create tecton-testing"
      ],
      "metadata": {
        "id": "rBvhNWBlzYF6"
      },
      "id": "rBvhNWBlzYF6",
      "execution_count": null,
      "outputs": []
    },
    {
      "cell_type": "markdown",
      "source": [
        "## Interactive Testing of Tecton Features\n",
        "In this section, a Tecton feature is defined and tested immediately after with the `run()` command\n"
      ],
      "metadata": {
        "id": "emEMviUgRQ6b"
      },
      "id": "emEMviUgRQ6b"
    },
    {
      "cell_type": "code",
      "execution_count": null,
      "metadata": {
        "id": "gG3jR7XREdTE"
      },
      "outputs": [],
      "source": [
        "%%run_and_save ./features/transaction_amount_is_high.py\n",
        "\n",
        "from tecton import RequestSource, on_demand_feature_view\n",
        "from tecton.types import Field, Float64, Int64\n",
        "import pandas\n",
        "\n",
        "# Define the request schema\n",
        "transaction_request = RequestSource(schema=[Field(\"amount\", Float64)])\n",
        "\n",
        "# Define the output schema\n",
        "output_schema = [Field(\"transaction_amount_is_high\", Int64)]\n",
        "\n",
        "# This On-Demand Feature View evaluates a transaction amount and declares it as \"high\", if it's higher than 10000\n",
        "@on_demand_feature_view(\n",
        "    sources=[transaction_request],\n",
        "    mode=\"pandas\",\n",
        "    schema=output_schema,\n",
        "    name=\"transaction_amount_is_high\",\n",
        "    description=\"Whether the transaction amount is considered high (over $10000)\",\n",
        ")\n",
        "def transaction_amount_is_high(transaction_request: pandas.DataFrame):\n",
        "    import pandas as pd\n",
        "\n",
        "    df = pd.DataFrame()\n",
        "    df[\"transaction_amount_is_high\"] = (transaction_request[\"amount\"] >= 10000).astype(\"int64\")\n",
        "    return df"
      ],
      "id": "gG3jR7XREdTE"
    },
    {
      "cell_type": "code",
      "execution_count": null,
      "metadata": {
        "id": "2mfEM_obEdTE"
      },
      "outputs": [],
      "source": [
        "transaction_amount_is_high.validate()\n",
        "\n",
        "transaction_request = pandas.DataFrame([{\"amount\": 100.0}])\n",
        "\n",
        "result = transaction_amount_is_high.run(\n",
        "    transaction_request=transaction_request,\n",
        ")\n",
        "print(result.to_pandas())\n",
        "\n",
        "transaction_request = pandas.DataFrame([{\"amount\": 100000.0}])\n",
        "\n",
        "result = transaction_amount_is_high.run(\n",
        "    transaction_request=transaction_request,\n",
        ")\n",
        "print(result.to_pandas())"
      ],
      "id": "2mfEM_obEdTE"
    },
    {
      "cell_type": "markdown",
      "source": [
        "## Unit Testing and Tecton feature variants\n",
        "This section defines and runs a unit test, `test_transaction_amount_is_high`, that tests the feature that was just built. There was a mistake in the feature definition, however, that is causing the unit test to fail!\n",
        "\n",
        "The feature you build deems a transaction as high if it is above 10000, but we actually meant that number to be 5000, the cells below create a variant of the previous Feature View definition, update the amount, and rerun the unit test.\n"
      ],
      "metadata": {
        "id": "9Ivlgxp1Tuni"
      },
      "id": "9Ivlgxp1Tuni"
    },
    {
      "cell_type": "code",
      "execution_count": null,
      "metadata": {
        "id": "2vOVI3ylEdTF"
      },
      "outputs": [],
      "source": [
        "%%run_and_save ./tests/transaction_amount_is_high.py\n",
        "from features.transaction_amount_is_high import transaction_amount_is_high\n",
        "import pandas\n",
        "\n",
        "# Testing the 'transaction_amount_is_high' feature which depends on request data ('amount') as input\n",
        "def test_transaction_amount_is_high():\n",
        "    transaction_request = pandas.DataFrame({\"amount\": [124, 5001, 34235436234]})\n",
        "\n",
        "    actual = transaction_amount_is_high.test_run(transaction_request=transaction_request)\n",
        "    expected = pandas.DataFrame({\"transaction_amount_is_high\": [0, 1, 1]})\n",
        "\n",
        "    pandas.testing.assert_frame_equal(actual, expected)"
      ],
      "id": "2vOVI3ylEdTF"
    },
    {
      "cell_type": "code",
      "execution_count": null,
      "metadata": {
        "id": "S7DoVK8TEdTF"
      },
      "outputs": [],
      "source": [
        "# It is okay if this cell produces an error,\n",
        "# You will be fixing this error in cells following\n",
        "\n",
        "test_transaction_amount_is_high()"
      ],
      "id": "S7DoVK8TEdTF"
    },
    {
      "cell_type": "code",
      "execution_count": null,
      "metadata": {
        "id": "2UZRVydWEdTG"
      },
      "outputs": [],
      "source": [
        "%%run_and_save ./features/transaction_amount_is_high.py\n",
        "\n",
        "from tecton import RequestSource, on_demand_feature_view\n",
        "from tecton.types import Field, Float64, Int64\n",
        "import pandas\n",
        "\n",
        "# Define the request schema\n",
        "transaction_request = RequestSource(schema=[Field(\"amount\", Float64)])\n",
        "\n",
        "# Define the output schema\n",
        "output_schema = [Field(\"transaction_amount_is_high\", Int64)]\n",
        "\n",
        "# This On-Demand Feature View evaluates a transaction amount and declares it as \"high\", if it's higher than $5,000\n",
        "@on_demand_feature_view(\n",
        "    sources=[transaction_request],\n",
        "    mode=\"pandas\",\n",
        "    schema=output_schema,\n",
        "    name=\"transaction_amount_is_high:v2\",\n",
        "    description=\"Whether the transaction amount is considered high (over $5000)\",\n",
        ")\n",
        "def transaction_amount_is_high(transaction_request: pandas.DataFrame):\n",
        "    import pandas as pd\n",
        "\n",
        "    df = pd.DataFrame()\n",
        "    df[\"transaction_amount_is_high\"] = (transaction_request[\"amount\"] >= 5000).astype(\"int64\")\n",
        "    return df"
      ],
      "id": "2UZRVydWEdTG"
    },
    {
      "cell_type": "code",
      "execution_count": null,
      "metadata": {
        "id": "ARRjZRWKEdTG"
      },
      "outputs": [],
      "source": [
        "transaction_amount_is_high.validate()"
      ],
      "id": "ARRjZRWKEdTG"
    },
    {
      "cell_type": "code",
      "execution_count": null,
      "metadata": {
        "id": "KTCMcCggEdTH"
      },
      "outputs": [],
      "source": [
        "test_transaction_amount_is_high()"
      ],
      "id": "KTCMcCggEdTH"
    },
    {
      "cell_type": "markdown",
      "source": [
        "## Wrapping up\n",
        "\n",
        "Unit tests can run interactively, or as a CLI command that can be included in a CI/CD environment, the cell below reruns the unit tests as a CLI command, then the workspace used for this notebook is deleted."
      ],
      "metadata": {
        "id": "ZtB0kSduV2C3"
      },
      "id": "ZtB0kSduV2C3"
    },
    {
      "cell_type": "code",
      "execution_count": null,
      "metadata": {
        "id": "wTGcy_E4EdTH"
      },
      "outputs": [],
      "source": [
        "!tecton test"
      ],
      "id": "wTGcy_E4EdTH"
    },
    {
      "cell_type": "code",
      "source": [
        "!tecton workspace delete tecton-testing"
      ],
      "metadata": {
        "id": "AotA6QFBVy7o"
      },
      "id": "AotA6QFBVy7o",
      "execution_count": null,
      "outputs": []
    }
  ],
  "metadata": {
    "kernelspec": {
      "display_name": "Python 3 (ipykernel)",
      "language": "python",
      "name": "python3"
    },
    "language_info": {
      "codemirror_mode": {
        "name": "ipython",
        "version": 3
      },
      "file_extension": ".py",
      "mimetype": "text/x-python",
      "name": "python",
      "nbconvert_exporter": "python",
      "pygments_lexer": "ipython3",
      "version": "3.9.6"
    },
    "colab": {
      "provenance": []
    }
  },
  "nbformat": 4,
  "nbformat_minor": 5
}