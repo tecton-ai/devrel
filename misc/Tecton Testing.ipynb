{
  "cells": [
    {
      "cell_type": "code",
      "execution_count": null,
      "metadata": {
        "id": "cOJ42tPQEdTA"
      },
      "outputs": [],
      "source": [
        "from IPython.core.magic import register_cell_magic\n",
        "@register_cell_magic\n",
        "def run_and_save(line, cell):\n",
        "    with open(line, 'wt') as fd:\n",
        "        fd.write(cell)\n",
        "    code = compile(cell, line, 'exec')\n",
        "    exec(code, globals())"
      ],
      "id": "cOJ42tPQEdTA"
    },
    {
      "cell_type": "code",
      "execution_count": null,
      "metadata": {
        "id": "1Z2I3q-tEdTC"
      },
      "outputs": [],
      "source": [
        "!mkdir tecton-testing\n",
        "%cd tecton-testing\n",
        "!mkdir features\n",
        "!mkdir tests\n",
        "!tecton init\n",
        "!tecton workspace create tecton-testing"
      ],
      "id": "1Z2I3q-tEdTC"
    },
    {
      "cell_type": "code",
      "execution_count": null,
      "metadata": {
        "id": "c9V6zXprEdTE"
      },
      "outputs": [],
      "source": [
        "import tecton\n",
        "tecton.login('community.tecton.ai')"
      ],
      "id": "c9V6zXprEdTE"
    },
    {
      "cell_type": "code",
      "execution_count": null,
      "metadata": {
        "id": "gG3jR7XREdTE"
      },
      "outputs": [],
      "source": [
        "%%run_and_save ./features/transaction_amount_is_high.py\n",
        "\n",
        "from tecton import RequestSource, on_demand_feature_view\n",
        "from tecton.types import Field, Float64, Int64\n",
        "import pandas\n",
        "\n",
        "# Define the request schema\n",
        "transaction_request = RequestSource(schema=[Field(\"amount\", Float64)])\n",
        "\n",
        "# Define the output schema\n",
        "output_schema = [Field(\"transaction_amount_is_high\", Int64)]\n",
        "\n",
        "# This On-Demand Feature View evaluates a transaction amount and declares it as \"high\", if it's higher than 10000\n",
        "@on_demand_feature_view(\n",
        "    sources=[transaction_request],\n",
        "    mode=\"pandas\",\n",
        "    schema=output_schema,\n",
        "    description=\"Whether the transaction amount is considered high (over $10000)\",\n",
        ")\n",
        "def transaction_amount_is_high(transaction_request: pandas.DataFrame):\n",
        "    import pandas as pd\n",
        "\n",
        "    df = pd.DataFrame()\n",
        "    df[\"transaction_amount_is_high\"] = (transaction_request[\"amount\"] >= 10000).astype(\"int64\")\n",
        "    return df"
      ],
      "id": "gG3jR7XREdTE"
    },
    {
      "cell_type": "code",
      "execution_count": null,
      "metadata": {
        "id": "2mfEM_obEdTE"
      },
      "outputs": [],
      "source": [
        "transaction_amount_is_high.validate()\n",
        "\n",
        "transaction_request = pandas.DataFrame([{\"amount\": 100.0}])\n",
        "\n",
        "result = transaction_amount_is_high.run(\n",
        "    transaction_request=transaction_request,\n",
        ")\n",
        "print(result.to_pandas())\n",
        "\n",
        "transaction_request = pandas.DataFrame([{\"amount\": 100000.0}])\n",
        "\n",
        "result = transaction_amount_is_high.run(\n",
        "    transaction_request=transaction_request,\n",
        ")\n",
        "print(result.to_pandas())"
      ],
      "id": "2mfEM_obEdTE"
    },
    {
      "cell_type": "code",
      "execution_count": null,
      "metadata": {
        "id": "2vOVI3ylEdTF"
      },
      "outputs": [],
      "source": [
        "%%run_and_save ./tests/transaction_amount_is_high.py\n",
        "from features.transaction_amount_is_high import transaction_amount_is_high\n",
        "import pandas\n",
        "\n",
        "# Testing the 'transaction_amount_is_high' feature which depends on request data ('amount') as input\n",
        "def test_transaction_amount_is_high():\n",
        "    transaction_request = pandas.DataFrame({\"amount\": [124, 5001, 34235436234]})\n",
        "\n",
        "    actual = transaction_amount_is_high.test_run(transaction_request=transaction_request)\n",
        "    expected = pandas.DataFrame({\"transaction_amount_is_high\": [0, 1, 1]})\n",
        "\n",
        "    pandas.testing.assert_frame_equal(actual, expected)"
      ],
      "id": "2vOVI3ylEdTF"
    },
    {
      "cell_type": "code",
      "execution_count": null,
      "metadata": {
        "id": "S7DoVK8TEdTF"
      },
      "outputs": [],
      "source": [
        "test_transaction_amount_is_high()"
      ],
      "id": "S7DoVK8TEdTF"
    },
    {
      "cell_type": "code",
      "execution_count": null,
      "metadata": {
        "id": "2UZRVydWEdTG"
      },
      "outputs": [],
      "source": [
        "%%run_and_save ./features/transaction_amount_is_high.py\n",
        "\n",
        "from tecton import RequestSource, on_demand_feature_view\n",
        "from tecton.types import Field, Float64, Int64\n",
        "import pandas\n",
        "\n",
        "# Define the request schema\n",
        "transaction_request = RequestSource(schema=[Field(\"amount\", Float64)])\n",
        "\n",
        "# Define the output schema\n",
        "output_schema = [Field(\"transaction_amount_is_high\", Int64)]\n",
        "\n",
        "# This On-Demand Feature View evaluates a transaction amount and declares it as \"high\", if it's higher than r\\5,000\n",
        "@on_demand_feature_view(\n",
        "    sources=[transaction_request],\n",
        "    mode=\"pandas\",\n",
        "    schema=output_schema,\n",
        "    description=\"Whether the transaction amount is considered high (over $5000)\",\n",
        ")\n",
        "def transaction_amount_is_high(transaction_request: pandas.DataFrame):\n",
        "    import pandas as pd\n",
        "\n",
        "    df = pd.DataFrame()\n",
        "    df[\"transaction_amount_is_high\"] = (transaction_request[\"amount\"] >= 5000).astype(\"int64\")\n",
        "    return df"
      ],
      "id": "2UZRVydWEdTG"
    },
    {
      "cell_type": "code",
      "execution_count": null,
      "metadata": {
        "id": "ARRjZRWKEdTG"
      },
      "outputs": [],
      "source": [
        "transaction_amount_is_high.validate()"
      ],
      "id": "ARRjZRWKEdTG"
    },
    {
      "cell_type": "code",
      "execution_count": null,
      "metadata": {
        "id": "KTCMcCggEdTH"
      },
      "outputs": [],
      "source": [
        "test_transaction_amount_is_high()"
      ],
      "id": "KTCMcCggEdTH"
    },
    {
      "cell_type": "code",
      "execution_count": null,
      "metadata": {
        "id": "wTGcy_E4EdTH"
      },
      "outputs": [],
      "source": [
        "!tecton test"
      ],
      "id": "wTGcy_E4EdTH"
    }
  ],
  "metadata": {
    "kernelspec": {
      "display_name": "Python 3 (ipykernel)",
      "language": "python",
      "name": "python3"
    },
    "language_info": {
      "codemirror_mode": {
        "name": "ipython",
        "version": 3
      },
      "file_extension": ".py",
      "mimetype": "text/x-python",
      "name": "python",
      "nbconvert_exporter": "python",
      "pygments_lexer": "ipython3",
      "version": "3.9.6"
    },
    "colab": {
      "provenance": []
    }
  },
  "nbformat": 4,
  "nbformat_minor": 5
}