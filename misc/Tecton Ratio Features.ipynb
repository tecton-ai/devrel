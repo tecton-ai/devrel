{
 "cells": [
  {
   "cell_type": "code",
   "execution_count": 0,
   "metadata": {
    "application/vnd.databricks.v1+cell": {
     "cellMetadata": {
      "byteLimit": 2048000,
      "rowLimit": 10000
     },
     "inputWidgets": {},
     "nuid": "972e1424-41ff-47fb-bd13-85d02da94d38",
     "showTitle": false,
     "title": ""
    }
   },
   "outputs": [
    {
     "output_type": "display_data",
     "data": {
      "text/html": [
       "<style scoped>\n",
       "  .ansiout {\n",
       "    display: block;\n",
       "    unicode-bidi: embed;\n",
       "    white-space: pre-wrap;\n",
       "    word-wrap: break-word;\n",
       "    word-break: break-all;\n",
       "    font-family: \"Menlo\", \"Monaco\", \"Consolas\", \"Ubuntu Mono\", \"Source Code Pro\", monospace;\n",
       "    font-size: 13px;\n",
       "    color: #555;\n",
       "    margin-left: 4px;\n",
       "    line-height: 19px;\n",
       "  }\n",
       "</style>\n",
       "<div class=\"ansiout\"></div>"
      ]
     },
     "metadata": {
      "application/vnd.databricks.v1+output": {
       "addedWidgets": {},
       "arguments": {},
       "data": "<div class=\"ansiout\"></div>",
       "datasetInfos": [],
       "metadata": {},
       "removedWidgets": [],
       "type": "html"
      }
     },
     "output_type": "display_data"
    }
   ],
   "source": [
    "import tecton \n",
    "import pandas\n",
    "\n",
    "from datetime import timedelta, datetime\n",
    "from tecton import Entity, BatchSource, batch_feature_view, spark_batch_config, Aggregation, RequestSource, on_demand_feature_view\n",
    "from tecton.types import Float64, Field, String\n",
    "\n",
    "tecton.set_credentials(tecton_api_key=dbutils.secrets.get(scope='tecton-lab-2', key='TECTON_API_KEY'),tecton_url=\"https://lab.tecton.ai/api\")\n",
    "ws = tecton.get_workspace('prod')"
   ]
  },
  {
   "cell_type": "code",
   "execution_count": 0,
   "metadata": {
    "application/vnd.databricks.v1+cell": {
     "cellMetadata": {
      "byteLimit": 2048000,
      "rowLimit": 10000
     },
     "inputWidgets": {},
     "nuid": "845b1c57-2723-40a5-9f48-fb21d2d0de92",
     "showTitle": false,
     "title": ""
    }
   },
   "outputs": [
    {
     "output_type": "display_data",
     "data": {
      "text/html": [
       "<style scoped>\n",
       "  .table-result-container {\n",
       "    max-height: 300px;\n",
       "    overflow: auto;\n",
       "  }\n",
       "  table, th, td {\n",
       "    border: 1px solid black;\n",
       "    border-collapse: collapse;\n",
       "  }\n",
       "  th, td {\n",
       "    padding: 5px;\n",
       "  }\n",
       "  th {\n",
       "    text-align: left;\n",
       "  }\n",
       "</style><div class='table-result-container'><table class='table-result'><thead style='background-color: white'><tr><th>user_id</th><th>payment_id</th><th>payment_date</th><th>payment_due_date</th><th>update_timestamp</th><th>amt</th></tr></thead><tbody><tr><td>12345</td><td>54321</td><td>2023-07-25T00:00:00.000+0000</td><td>2023-07-20T00:00:00.000+0000</td><td>2023-07-25T00:00:00.000+0000</td><td>10</td></tr><tr><td>12345</td><td>54320</td><td>2023-07-25T00:00:00.000+0000</td><td>2023-07-25T00:00:00.000+0000</td><td>2023-07-25T00:00:00.000+0000</td><td>9</td></tr><tr><td>12345</td><td>54310</td><td>2023-07-25T00:00:00.000+0000</td><td>2023-07-25T00:00:00.000+0000</td><td>2023-07-25T00:00:00.000+0000</td><td>8</td></tr><tr><td>10000</td><td>10101</td><td>2023-07-25T00:00:00.000+0000</td><td>2023-07-15T00:00:00.000+0000</td><td>2023-07-25T00:00:00.000+0000</td><td>7</td></tr><tr><td>10000</td><td>10102</td><td>2023-07-25T00:00:00.000+0000</td><td>2023-07-10T00:00:00.000+0000</td><td>2023-07-25T00:00:00.000+0000</td><td>6</td></tr><tr><td>10000</td><td>10103</td><td>2023-07-25T00:00:00.000+0000</td><td>2023-07-05T00:00:00.000+0000</td><td>2023-07-25T00:00:00.000+0000</td><td>5</td></tr></tbody></table></div>"
      ]
     },
     "metadata": {
      "application/vnd.databricks.v1+output": {
       "addedWidgets": {},
       "aggData": [],
       "aggError": "",
       "aggOverflow": false,
       "aggSchema": [],
       "aggSeriesLimitReached": false,
       "aggType": "",
       "arguments": {},
       "columnCustomDisplayInfos": {},
       "data": [
        [
         "12345",
         "54321",
         "2023-07-25T00:00:00.000+0000",
         "2023-07-20T00:00:00.000+0000",
         "2023-07-25T00:00:00.000+0000",
         10
        ],
        [
         "12345",
         "54320",
         "2023-07-25T00:00:00.000+0000",
         "2023-07-25T00:00:00.000+0000",
         "2023-07-25T00:00:00.000+0000",
         9
        ],
        [
         "12345",
         "54310",
         "2023-07-25T00:00:00.000+0000",
         "2023-07-25T00:00:00.000+0000",
         "2023-07-25T00:00:00.000+0000",
         8
        ],
        [
         "10000",
         "10101",
         "2023-07-25T00:00:00.000+0000",
         "2023-07-15T00:00:00.000+0000",
         "2023-07-25T00:00:00.000+0000",
         7
        ],
        [
         "10000",
         "10102",
         "2023-07-25T00:00:00.000+0000",
         "2023-07-10T00:00:00.000+0000",
         "2023-07-25T00:00:00.000+0000",
         6
        ],
        [
         "10000",
         "10103",
         "2023-07-25T00:00:00.000+0000",
         "2023-07-05T00:00:00.000+0000",
         "2023-07-25T00:00:00.000+0000",
         5
        ]
       ],
       "datasetInfos": [],
       "dbfsResultPath": null,
       "isJsonSchema": true,
       "metadata": {},
       "overflow": false,
       "plotOptions": {
        "customPlotOptions": {},
        "displayType": "table",
        "pivotAggregation": null,
        "pivotColumns": null,
        "xColumns": null,
        "yColumns": null
       },
       "removedWidgets": [],
       "schema": [
        {
         "metadata": "{}",
         "name": "user_id",
         "type": "\"string\""
        },
        {
         "metadata": "{}",
         "name": "payment_id",
         "type": "\"string\""
        },
        {
         "metadata": "{}",
         "name": "payment_date",
         "type": "\"timestamp\""
        },
        {
         "metadata": "{}",
         "name": "payment_due_date",
         "type": "\"timestamp\""
        },
        {
         "metadata": "{}",
         "name": "update_timestamp",
         "type": "\"timestamp\""
        },
        {
         "metadata": "{}",
         "name": "amt",
         "type": "\"long\""
        }
       ],
       "type": "table"
      }
     },
     "output_type": "display_data"
    }
   ],
   "source": [
    "rows = [\n",
    "  {\n",
    "    \"user_id\": \"12345\",\n",
    "    \"payment_id\": \"54321\",\n",
    "    \"payment_date\": datetime(2023, 7, 25),\n",
    "    \"payment_due_date\": datetime(2023, 7, 20),\n",
    "    \"update_timestamp\": datetime(2023, 7, 25),\n",
    "    \"amt\": 10,\n",
    "  },\n",
    "  {\n",
    "    \"user_id\": \"12345\",\n",
    "    \"payment_id\": \"54320\",\n",
    "    \"payment_date\": datetime(2023, 7, 25),\n",
    "    \"payment_due_date\": datetime(2023, 7, 25),\n",
    "    \"update_timestamp\": datetime(2023, 7, 25),\n",
    "    \"amt\": 9,\n",
    "  },\n",
    "  {\n",
    "    \"user_id\": \"12345\",\n",
    "    \"payment_id\": \"54310\",\n",
    "    \"payment_date\": datetime(2023, 7, 25),\n",
    "    \"payment_due_date\": datetime(2023, 7, 25),\n",
    "    \"update_timestamp\": datetime(2023, 7, 25),\n",
    "    \"amt\": 8,\n",
    "  },\n",
    "  {\n",
    "    \"user_id\": \"10000\",\n",
    "    \"payment_id\": \"10101\",\n",
    "    \"payment_date\": datetime(2023, 7, 25),\n",
    "    \"payment_due_date\": datetime(2023, 7, 15),   \n",
    "    \"update_timestamp\": datetime(2023, 7, 25),\n",
    "    \"amt\": 7,\n",
    "  },\n",
    "  {\n",
    "    \"user_id\": \"10000\",\n",
    "    \"payment_id\": \"10102\",\n",
    "    \"payment_date\": datetime(2023, 7, 25),\n",
    "    \"payment_due_date\": datetime(2023, 7, 10),\n",
    "    \"update_timestamp\": datetime(2023, 7, 25),\n",
    "    \"amt\": 6,\n",
    "  },\n",
    "  {\n",
    "    \"user_id\": \"10000\",\n",
    "    \"payment_id\": \"10103\",\n",
    "    \"payment_date\": datetime(2023, 7, 25),\n",
    "    \"payment_due_date\": datetime(2023, 7, 5),\n",
    "    \"update_timestamp\": datetime(2023, 7, 25),\n",
    "    \"amt\": 5,\n",
    "  },\n",
    "]\n",
    "\n",
    "df_spark = spark.createDataFrame(pandas.DataFrame.from_records(rows))\n",
    "display(df_spark)"
   ]
  },
  {
   "cell_type": "code",
   "execution_count": 0,
   "metadata": {
    "application/vnd.databricks.v1+cell": {
     "cellMetadata": {
      "byteLimit": 2048000,
      "rowLimit": 10000
     },
     "inputWidgets": {},
     "nuid": "22ade7fc-2418-408e-bc48-215443fbf98c",
     "showTitle": false,
     "title": ""
    }
   },
   "outputs": [
    {
     "output_type": "display_data",
     "data": {
      "text/html": [
       "<style scoped>\n",
       "  .ansiout {\n",
       "    display: block;\n",
       "    unicode-bidi: embed;\n",
       "    white-space: pre-wrap;\n",
       "    word-wrap: break-word;\n",
       "    word-break: break-all;\n",
       "    font-family: \"Menlo\", \"Monaco\", \"Consolas\", \"Ubuntu Mono\", \"Source Code Pro\", monospace;\n",
       "    font-size: 13px;\n",
       "    color: #555;\n",
       "    margin-left: 4px;\n",
       "    line-height: 19px;\n",
       "  }\n",
       "</style>\n",
       "<div class=\"ansiout\"></div>"
      ]
     },
     "metadata": {
      "application/vnd.databricks.v1+output": {
       "addedWidgets": {},
       "arguments": {},
       "data": "<div class=\"ansiout\"></div>",
       "datasetInfos": [],
       "metadata": {},
       "removedWidgets": [],
       "type": "html"
      }
     },
     "output_type": "display_data"
    }
   ],
   "source": [
    "df_spark.createOrReplaceTempView(\"data\")"
   ]
  },
  {
   "cell_type": "code",
   "execution_count": 0,
   "metadata": {
    "application/vnd.databricks.v1+cell": {
     "cellMetadata": {
      "byteLimit": 2048000,
      "rowLimit": 10000
     },
     "inputWidgets": {},
     "nuid": "50f1160e-5b87-4e92-92ca-a9349d341626",
     "showTitle": false,
     "title": ""
    }
   },
   "outputs": [
    {
     "output_type": "display_data",
     "data": {
      "text/html": [
       "<style scoped>\n",
       "  .ansiout {\n",
       "    display: block;\n",
       "    unicode-bidi: embed;\n",
       "    white-space: pre-wrap;\n",
       "    word-wrap: break-word;\n",
       "    word-break: break-all;\n",
       "    font-family: \"Menlo\", \"Monaco\", \"Consolas\", \"Ubuntu Mono\", \"Source Code Pro\", monospace;\n",
       "    font-size: 13px;\n",
       "    color: #555;\n",
       "    margin-left: 4px;\n",
       "    line-height: 19px;\n",
       "  }\n",
       "</style>\n",
       "<div class=\"ansiout\">BatchSource &#39;late_payments_source&#39;: Deriving schema.\n",
       "BatchSource &#39;late_payments_source&#39;: Successfully validated.\n",
       "</div>"
      ]
     },
     "metadata": {
      "application/vnd.databricks.v1+output": {
       "addedWidgets": {},
       "arguments": {},
       "data": "<div class=\"ansiout\">BatchSource &#39;late_payments_source&#39;: Deriving schema.\nBatchSource &#39;late_payments_source&#39;: Successfully validated.\n</div>",
       "datasetInfos": [],
       "metadata": {},
       "removedWidgets": [],
       "type": "html"
      }
     },
     "output_type": "display_data"
    },
    {
     "output_type": "display_data",
     "data": {
      "text/html": [
       "<style scoped>\n",
       "  .table-result-container {\n",
       "    max-height: 300px;\n",
       "    overflow: auto;\n",
       "  }\n",
       "  table, th, td {\n",
       "    border: 1px solid black;\n",
       "    border-collapse: collapse;\n",
       "  }\n",
       "  th, td {\n",
       "    padding: 5px;\n",
       "  }\n",
       "  th {\n",
       "    text-align: left;\n",
       "  }\n",
       "</style><div class='table-result-container'><table class='table-result'><thead style='background-color: white'><tr><th>user_id</th><th>payment_id</th><th>payment_date</th><th>payment_due_date</th><th>update_timestamp</th><th>amt</th></tr></thead><tbody><tr><td>12345</td><td>54321</td><td>2023-07-25T00:00:00.000+0000</td><td>2023-07-20T00:00:00.000+0000</td><td>2023-07-25T00:00:00.000+0000</td><td>10</td></tr><tr><td>12345</td><td>54320</td><td>2023-07-25T00:00:00.000+0000</td><td>2023-07-25T00:00:00.000+0000</td><td>2023-07-25T00:00:00.000+0000</td><td>9</td></tr><tr><td>12345</td><td>54310</td><td>2023-07-25T00:00:00.000+0000</td><td>2023-07-25T00:00:00.000+0000</td><td>2023-07-25T00:00:00.000+0000</td><td>8</td></tr><tr><td>10000</td><td>10101</td><td>2023-07-25T00:00:00.000+0000</td><td>2023-07-15T00:00:00.000+0000</td><td>2023-07-25T00:00:00.000+0000</td><td>7</td></tr><tr><td>10000</td><td>10102</td><td>2023-07-25T00:00:00.000+0000</td><td>2023-07-10T00:00:00.000+0000</td><td>2023-07-25T00:00:00.000+0000</td><td>6</td></tr><tr><td>10000</td><td>10103</td><td>2023-07-25T00:00:00.000+0000</td><td>2023-07-05T00:00:00.000+0000</td><td>2023-07-25T00:00:00.000+0000</td><td>5</td></tr></tbody></table></div>"
      ]
     },
     "metadata": {
      "application/vnd.databricks.v1+output": {
       "addedWidgets": {},
       "aggData": [],
       "aggError": "",
       "aggOverflow": false,
       "aggSchema": [],
       "aggSeriesLimitReached": false,
       "aggType": "",
       "arguments": {},
       "columnCustomDisplayInfos": {},
       "data": [
        [
         "12345",
         "54321",
         "2023-07-25T00:00:00.000+0000",
         "2023-07-20T00:00:00.000+0000",
         "2023-07-25T00:00:00.000+0000",
         10
        ],
        [
         "12345",
         "54320",
         "2023-07-25T00:00:00.000+0000",
         "2023-07-25T00:00:00.000+0000",
         "2023-07-25T00:00:00.000+0000",
         9
        ],
        [
         "12345",
         "54310",
         "2023-07-25T00:00:00.000+0000",
         "2023-07-25T00:00:00.000+0000",
         "2023-07-25T00:00:00.000+0000",
         8
        ],
        [
         "10000",
         "10101",
         "2023-07-25T00:00:00.000+0000",
         "2023-07-15T00:00:00.000+0000",
         "2023-07-25T00:00:00.000+0000",
         7
        ],
        [
         "10000",
         "10102",
         "2023-07-25T00:00:00.000+0000",
         "2023-07-10T00:00:00.000+0000",
         "2023-07-25T00:00:00.000+0000",
         6
        ],
        [
         "10000",
         "10103",
         "2023-07-25T00:00:00.000+0000",
         "2023-07-05T00:00:00.000+0000",
         "2023-07-25T00:00:00.000+0000",
         5
        ]
       ],
       "datasetInfos": [],
       "dbfsResultPath": null,
       "isJsonSchema": true,
       "metadata": {},
       "overflow": false,
       "plotOptions": {
        "customPlotOptions": {},
        "displayType": "table",
        "pivotAggregation": null,
        "pivotColumns": null,
        "xColumns": null,
        "yColumns": null
       },
       "removedWidgets": [],
       "schema": [
        {
         "metadata": "{}",
         "name": "user_id",
         "type": "\"string\""
        },
        {
         "metadata": "{}",
         "name": "payment_id",
         "type": "\"string\""
        },
        {
         "metadata": "{}",
         "name": "payment_date",
         "type": "\"timestamp\""
        },
        {
         "metadata": "{}",
         "name": "payment_due_date",
         "type": "\"timestamp\""
        },
        {
         "metadata": "{}",
         "name": "update_timestamp",
         "type": "\"timestamp\""
        },
        {
         "metadata": "{}",
         "name": "amt",
         "type": "\"long\""
        }
       ],
       "type": "table"
      }
     },
     "output_type": "display_data"
    }
   ],
   "source": [
    "@spark_batch_config()\n",
    "def batch_config(spark):\n",
    "  return df_spark\n",
    "\n",
    "late_payments_source = BatchSource(\n",
    "    name='late_payments_source',\n",
    "    batch_config=batch_config\n",
    ")\n",
    "\n",
    "late_payments_source.validate()\n",
    "display(late_payments_source.get_dataframe().to_spark())"
   ]
  },
  {
   "cell_type": "code",
   "execution_count": 0,
   "metadata": {
    "application/vnd.databricks.v1+cell": {
     "cellMetadata": {
      "byteLimit": 2048000,
      "rowLimit": 10000
     },
     "inputWidgets": {},
     "nuid": "10586378-a8cb-4bb2-94fa-a62392ca871d",
     "showTitle": false,
     "title": ""
    }
   },
   "outputs": [
    {
     "output_type": "display_data",
     "data": {
      "text/html": [
       "<style scoped>\n",
       "  .ansiout {\n",
       "    display: block;\n",
       "    unicode-bidi: embed;\n",
       "    white-space: pre-wrap;\n",
       "    word-wrap: break-word;\n",
       "    word-break: break-all;\n",
       "    font-family: \"Menlo\", \"Monaco\", \"Consolas\", \"Ubuntu Mono\", \"Source Code Pro\", monospace;\n",
       "    font-size: 13px;\n",
       "    color: #555;\n",
       "    margin-left: 4px;\n",
       "    line-height: 19px;\n",
       "  }\n",
       "</style>\n",
       "<div class=\"ansiout\">Entity &#39;user&#39;: Successfully validated.\n",
       "BatchFeatureView &#39;features&#39;: Validating 1 of 3 dependencies. (2 already validated)\n",
       "    Transformation &#39;features&#39;: Successfully validated.\n",
       "BatchFeatureView &#39;features&#39;: Successfully validated.\n",
       "</div>"
      ]
     },
     "metadata": {
      "application/vnd.databricks.v1+output": {
       "addedWidgets": {},
       "arguments": {},
       "data": "<div class=\"ansiout\">Entity &#39;user&#39;: Successfully validated.\nBatchFeatureView &#39;features&#39;: Validating 1 of 3 dependencies. (2 already validated)\n    Transformation &#39;features&#39;: Successfully validated.\nBatchFeatureView &#39;features&#39;: Successfully validated.\n</div>",
       "datasetInfos": [],
       "metadata": {},
       "removedWidgets": [],
       "type": "html"
      }
     },
     "output_type": "display_data"
    }
   ],
   "source": [
    "user = Entity(\n",
    "    name=\"user\",\n",
    "    join_keys=[\"user_id\"],\n",
    ")\n",
    "user.validate()\n",
    "\n",
    "@batch_feature_view(\n",
    "    sources=[late_payments_source],\n",
    "    entities=[user],\n",
    "    mode='spark_sql',\n",
    "    batch_schedule=timedelta(days=1),\n",
    "    feature_start_time=datetime(2023,7,1),\n",
    "    timestamp_field=\"update_timestamp\"\n",
    ")\n",
    "def features(late_payments_source):\n",
    "  return f'''\n",
    "    select user_id, \n",
    "    payment_id,\n",
    "    amt, \n",
    "    update_timestamp\n",
    "    from {late_payments_source}\n",
    "  '''\n",
    "features.validate()"
   ]
  },
  {
   "cell_type": "code",
   "execution_count": 0,
   "metadata": {
    "application/vnd.databricks.v1+cell": {
     "cellMetadata": {
      "byteLimit": 2048000,
      "rowLimit": 10000
     },
     "inputWidgets": {},
     "nuid": "4cf1d0db-d3a5-40f3-ae56-e6b547be52f3",
     "showTitle": false,
     "title": ""
    }
   },
   "outputs": [
    {
     "output_type": "display_data",
     "data": {
      "text/html": [
       "<style scoped>\n",
       "  .ansiout {\n",
       "    display: block;\n",
       "    unicode-bidi: embed;\n",
       "    white-space: pre-wrap;\n",
       "    word-wrap: break-word;\n",
       "    word-break: break-all;\n",
       "    font-family: \"Menlo\", \"Monaco\", \"Consolas\", \"Ubuntu Mono\", \"Source Code Pro\", monospace;\n",
       "    font-size: 13px;\n",
       "    color: #555;\n",
       "    margin-left: 4px;\n",
       "    line-height: 19px;\n",
       "  }\n",
       "</style>\n",
       "<div class=\"ansiout\">BatchFeatureView &#39;payment_aggregates&#39;: Validating 1 of 3 dependencies. (2 already validated)\n",
       "    Transformation &#39;payment_aggregates&#39;: Successfully validated.\n",
       "BatchFeatureView &#39;payment_aggregates&#39;: Successfully validated.\n",
       "</div>"
      ]
     },
     "metadata": {
      "application/vnd.databricks.v1+output": {
       "addedWidgets": {},
       "arguments": {},
       "data": "<div class=\"ansiout\">BatchFeatureView &#39;payment_aggregates&#39;: Validating 1 of 3 dependencies. (2 already validated)\n    Transformation &#39;payment_aggregates&#39;: Successfully validated.\nBatchFeatureView &#39;payment_aggregates&#39;: Successfully validated.\n</div>",
       "datasetInfos": [],
       "metadata": {},
       "removedWidgets": [],
       "type": "html"
      }
     },
     "output_type": "display_data"
    }
   ],
   "source": [
    "@batch_feature_view(\n",
    "    sources=[late_payments_source],\n",
    "    entities=[user],\n",
    "    mode='spark_sql',\n",
    "    batch_schedule=timedelta(days=1),\n",
    "    aggregation_interval=timedelta(days=1),\n",
    "    aggregations=[\n",
    "        Aggregation(column='late_payment', function='sum', time_window=timedelta(days=365*10)),\n",
    "        Aggregation(column='payment_id', function='count', time_window=timedelta(days=365*10)),\n",
    "    ],\n",
    "    feature_start_time=datetime(2023,7,1),\n",
    "    timestamp_field=\"update_timestamp\"\n",
    ")\n",
    "def payment_aggregates(late_payments_source):\n",
    "  return f'''\n",
    "    select user_id, \n",
    "        payment_id, \n",
    "        CASE when datediff(payment_date, payment_due_date) > 0 THEN 1 ELSE 0 END as late_payment,\n",
    "        update_timestamp\n",
    "    from {late_payments_source}\n",
    "  '''\n",
    "payment_aggregates.validate()"
   ]
  },
  {
   "cell_type": "code",
   "execution_count": 0,
   "metadata": {
    "application/vnd.databricks.v1+cell": {
     "cellMetadata": {
      "byteLimit": 2048000,
      "implicitDf": true,
      "rowLimit": 10000
     },
     "inputWidgets": {},
     "nuid": "c1a9c7e7-c99b-4532-9d3e-f07eee342718",
     "showTitle": false,
     "title": ""
    }
   },
   "outputs": [
    {
     "output_type": "display_data",
     "data": {
      "text/html": [
       "<style scoped>\n",
       "  .table-result-container {\n",
       "    max-height: 300px;\n",
       "    overflow: auto;\n",
       "  }\n",
       "  table, th, td {\n",
       "    border: 1px solid black;\n",
       "    border-collapse: collapse;\n",
       "  }\n",
       "  th, td {\n",
       "    padding: 5px;\n",
       "  }\n",
       "  th {\n",
       "    text-align: left;\n",
       "  }\n",
       "</style><div class='table-result-container'><table class='table-result'><thead style='background-color: white'><tr><th>user_id</th><th>payment_id</th><th>payment_date</th><th>payment_due_date</th><th>update_timestamp</th><th>amt</th></tr></thead><tbody><tr><td>12345</td><td>54321</td><td>2023-07-25T00:00:00.000+0000</td><td>2023-07-20T00:00:00.000+0000</td><td>2023-07-25T00:00:00.000+0000</td><td>10</td></tr><tr><td>12345</td><td>54320</td><td>2023-07-25T00:00:00.000+0000</td><td>2023-07-25T00:00:00.000+0000</td><td>2023-07-25T00:00:00.000+0000</td><td>9</td></tr><tr><td>12345</td><td>54310</td><td>2023-07-25T00:00:00.000+0000</td><td>2023-07-25T00:00:00.000+0000</td><td>2023-07-25T00:00:00.000+0000</td><td>8</td></tr><tr><td>10000</td><td>10101</td><td>2023-07-25T00:00:00.000+0000</td><td>2023-07-15T00:00:00.000+0000</td><td>2023-07-25T00:00:00.000+0000</td><td>7</td></tr><tr><td>10000</td><td>10102</td><td>2023-07-25T00:00:00.000+0000</td><td>2023-07-10T00:00:00.000+0000</td><td>2023-07-25T00:00:00.000+0000</td><td>6</td></tr><tr><td>10000</td><td>10103</td><td>2023-07-25T00:00:00.000+0000</td><td>2023-07-05T00:00:00.000+0000</td><td>2023-07-25T00:00:00.000+0000</td><td>5</td></tr></tbody></table></div>"
      ]
     },
     "metadata": {
      "application/vnd.databricks.v1+output": {
       "addedWidgets": {},
       "aggData": [],
       "aggError": "",
       "aggOverflow": false,
       "aggSchema": [],
       "aggSeriesLimitReached": false,
       "aggType": "",
       "arguments": {},
       "columnCustomDisplayInfos": {},
       "data": [
        [
         "12345",
         "54321",
         "2023-07-25T00:00:00.000+0000",
         "2023-07-20T00:00:00.000+0000",
         "2023-07-25T00:00:00.000+0000",
         10
        ],
        [
         "12345",
         "54320",
         "2023-07-25T00:00:00.000+0000",
         "2023-07-25T00:00:00.000+0000",
         "2023-07-25T00:00:00.000+0000",
         9
        ],
        [
         "12345",
         "54310",
         "2023-07-25T00:00:00.000+0000",
         "2023-07-25T00:00:00.000+0000",
         "2023-07-25T00:00:00.000+0000",
         8
        ],
        [
         "10000",
         "10101",
         "2023-07-25T00:00:00.000+0000",
         "2023-07-15T00:00:00.000+0000",
         "2023-07-25T00:00:00.000+0000",
         7
        ],
        [
         "10000",
         "10102",
         "2023-07-25T00:00:00.000+0000",
         "2023-07-10T00:00:00.000+0000",
         "2023-07-25T00:00:00.000+0000",
         6
        ],
        [
         "10000",
         "10103",
         "2023-07-25T00:00:00.000+0000",
         "2023-07-05T00:00:00.000+0000",
         "2023-07-25T00:00:00.000+0000",
         5
        ]
       ],
       "datasetInfos": [],
       "dbfsResultPath": null,
       "isJsonSchema": true,
       "metadata": {},
       "overflow": false,
       "plotOptions": {
        "customPlotOptions": {},
        "displayType": "table",
        "pivotAggregation": null,
        "pivotColumns": null,
        "xColumns": null,
        "yColumns": null
       },
       "removedWidgets": [],
       "schema": [
        {
         "metadata": "{}",
         "name": "user_id",
         "type": "\"string\""
        },
        {
         "metadata": "{}",
         "name": "payment_id",
         "type": "\"string\""
        },
        {
         "metadata": "{}",
         "name": "payment_date",
         "type": "\"timestamp\""
        },
        {
         "metadata": "{}",
         "name": "payment_due_date",
         "type": "\"timestamp\""
        },
        {
         "metadata": "{}",
         "name": "update_timestamp",
         "type": "\"timestamp\""
        },
        {
         "metadata": "{}",
         "name": "amt",
         "type": "\"long\""
        }
       ],
       "type": "table"
      }
     },
     "output_type": "display_data"
    }
   ],
   "source": [
    "%sql\n",
    "select *\n",
    "from data"
   ]
  },
  {
   "cell_type": "code",
   "execution_count": 0,
   "metadata": {
    "application/vnd.databricks.v1+cell": {
     "cellMetadata": {
      "byteLimit": 2048000,
      "implicitDf": true,
      "rowLimit": 10000
     },
     "inputWidgets": {},
     "nuid": "f6ce51a6-3679-42d8-a52a-4b3e30df00f8",
     "showTitle": false,
     "title": ""
    }
   },
   "outputs": [
    {
     "output_type": "display_data",
     "data": {
      "text/html": [
       "<style scoped>\n",
       "  .table-result-container {\n",
       "    max-height: 300px;\n",
       "    overflow: auto;\n",
       "  }\n",
       "  table, th, td {\n",
       "    border: 1px solid black;\n",
       "    border-collapse: collapse;\n",
       "  }\n",
       "  th, td {\n",
       "    padding: 5px;\n",
       "  }\n",
       "  th {\n",
       "    text-align: left;\n",
       "  }\n",
       "</style><div class='table-result-container'><table class='table-result'><thead style='background-color: white'><tr><th>user_id</th><th>payment_id</th><th>late_payment</th></tr></thead><tbody><tr><td>12345</td><td>54321</td><td>1</td></tr><tr><td>12345</td><td>54320</td><td>0</td></tr><tr><td>12345</td><td>54310</td><td>0</td></tr><tr><td>10000</td><td>10101</td><td>1</td></tr><tr><td>10000</td><td>10102</td><td>1</td></tr><tr><td>10000</td><td>10103</td><td>1</td></tr></tbody></table></div>"
      ]
     },
     "metadata": {
      "application/vnd.databricks.v1+output": {
       "addedWidgets": {},
       "aggData": [],
       "aggError": "",
       "aggOverflow": false,
       "aggSchema": [],
       "aggSeriesLimitReached": false,
       "aggType": "",
       "arguments": {},
       "columnCustomDisplayInfos": {},
       "data": [
        [
         "12345",
         "54321",
         1
        ],
        [
         "12345",
         "54320",
         0
        ],
        [
         "12345",
         "54310",
         0
        ],
        [
         "10000",
         "10101",
         1
        ],
        [
         "10000",
         "10102",
         1
        ],
        [
         "10000",
         "10103",
         1
        ]
       ],
       "datasetInfos": [],
       "dbfsResultPath": null,
       "isJsonSchema": true,
       "metadata": {},
       "overflow": false,
       "plotOptions": {
        "customPlotOptions": {},
        "displayType": "table",
        "pivotAggregation": null,
        "pivotColumns": null,
        "xColumns": null,
        "yColumns": null
       },
       "removedWidgets": [],
       "schema": [
        {
         "metadata": "{}",
         "name": "user_id",
         "type": "\"string\""
        },
        {
         "metadata": "{}",
         "name": "payment_id",
         "type": "\"string\""
        },
        {
         "metadata": "{}",
         "name": "late_payment",
         "type": "\"integer\""
        }
       ],
       "type": "table"
      }
     },
     "output_type": "display_data"
    }
   ],
   "source": [
    "%sql\n",
    "select user_id, payment_id, CASE when datediff(payment_date, payment_due_date) > 0 THEN 1 ELSE 0 END as late_payment\n",
    "from data"
   ]
  },
  {
   "cell_type": "code",
   "execution_count": 0,
   "metadata": {
    "application/vnd.databricks.v1+cell": {
     "cellMetadata": {
      "byteLimit": 2048000,
      "rowLimit": 10000
     },
     "inputWidgets": {},
     "nuid": "82aa36b0-63bc-48f9-bdd1-b73c6dcccf00",
     "showTitle": false,
     "title": ""
    }
   },
   "outputs": [
    {
     "output_type": "display_data",
     "data": {
      "text/html": [
       "<style scoped>\n",
       "  .ansiout {\n",
       "    display: block;\n",
       "    unicode-bidi: embed;\n",
       "    white-space: pre-wrap;\n",
       "    word-wrap: break-word;\n",
       "    word-break: break-all;\n",
       "    font-family: \"Menlo\", \"Monaco\", \"Consolas\", \"Ubuntu Mono\", \"Source Code Pro\", monospace;\n",
       "    font-size: 13px;\n",
       "    color: #555;\n",
       "    margin-left: 4px;\n",
       "    line-height: 19px;\n",
       "  }\n",
       "</style>\n",
       "<div class=\"ansiout\">The provided start_time (2023-01-01T00:00:00+00:00) is before &#34;payment_aggregates&#34;&#39;s feature_start_time (2023-07-01T00:00:00+00:00). No feature values will be returned before the feature_start_time.\n",
       "The provided start_time (2023-01-01T00:00:00+00:00) is before &#34;payment_aggregates&#34;&#39;s feature_start_time (2023-07-01T00:00:00+00:00). No feature values will be returned before the feature_start_time.\n",
       "</div>"
      ]
     },
     "metadata": {
      "application/vnd.databricks.v1+output": {
       "addedWidgets": {},
       "arguments": {},
       "data": "<div class=\"ansiout\">The provided start_time (2023-01-01T00:00:00+00:00) is before &#34;payment_aggregates&#34;&#39;s feature_start_time (2023-07-01T00:00:00+00:00). No feature values will be returned before the feature_start_time.\nThe provided start_time (2023-01-01T00:00:00+00:00) is before &#34;payment_aggregates&#34;&#39;s feature_start_time (2023-07-01T00:00:00+00:00). No feature values will be returned before the feature_start_time.\n</div>",
       "datasetInfos": [],
       "metadata": {},
       "removedWidgets": [],
       "type": "html"
      }
     },
     "output_type": "display_data"
    },
    {
     "output_type": "display_data",
     "data": {
      "text/html": [
       "<style scoped>\n",
       "  .table-result-container {\n",
       "    max-height: 300px;\n",
       "    overflow: auto;\n",
       "  }\n",
       "  table, th, td {\n",
       "    border: 1px solid black;\n",
       "    border-collapse: collapse;\n",
       "  }\n",
       "  th, td {\n",
       "    padding: 5px;\n",
       "  }\n",
       "  th {\n",
       "    text-align: left;\n",
       "  }\n",
       "</style><div class='table-result-container'><table class='table-result'><thead style='background-color: white'><tr><th>user_id</th><th>late_payment_sum_3650d_1d</th><th>payment_id_count_3650d_1d</th><th>update_timestamp</th><th>_effective_timestamp</th></tr></thead><tbody><tr><td>10000</td><td>3</td><td>3</td><td>2023-07-26T00:00:00.000+0000</td><td>2023-07-26T00:00:00.000+0000</td></tr><tr><td>12345</td><td>1</td><td>3</td><td>2023-07-26T00:00:00.000+0000</td><td>2023-07-26T00:00:00.000+0000</td></tr></tbody></table></div>"
      ]
     },
     "metadata": {
      "application/vnd.databricks.v1+output": {
       "addedWidgets": {},
       "aggData": [],
       "aggError": "",
       "aggOverflow": false,
       "aggSchema": [],
       "aggSeriesLimitReached": false,
       "aggType": "",
       "arguments": {},
       "columnCustomDisplayInfos": {},
       "data": [
        [
         "10000",
         3,
         3,
         "2023-07-26T00:00:00.000+0000",
         "2023-07-26T00:00:00.000+0000"
        ],
        [
         "12345",
         1,
         3,
         "2023-07-26T00:00:00.000+0000",
         "2023-07-26T00:00:00.000+0000"
        ]
       ],
       "datasetInfos": [],
       "dbfsResultPath": null,
       "isJsonSchema": true,
       "metadata": {},
       "overflow": false,
       "plotOptions": {
        "customPlotOptions": {},
        "displayType": "table",
        "pivotAggregation": null,
        "pivotColumns": null,
        "xColumns": null,
        "yColumns": null
       },
       "removedWidgets": [],
       "schema": [
        {
         "metadata": "{}",
         "name": "user_id",
         "type": "\"string\""
        },
        {
         "metadata": "{}",
         "name": "late_payment_sum_3650d_1d",
         "type": "\"long\""
        },
        {
         "metadata": "{}",
         "name": "payment_id_count_3650d_1d",
         "type": "\"long\""
        },
        {
         "metadata": "{}",
         "name": "update_timestamp",
         "type": "\"timestamp\""
        },
        {
         "metadata": "{}",
         "name": "_effective_timestamp",
         "type": "\"timestamp\""
        }
       ],
       "type": "table"
      }
     },
     "output_type": "display_data"
    }
   ],
   "source": [
    "z = payment_aggregates.get_historical_features(start_time=datetime(2023, 1, 1), end_time=datetime(2023, 8, 1)).to_spark()\n",
    "display(payment_aggregates.get_historical_features(start_time=datetime(2023, 1, 1), end_time=datetime(2023, 8, 1)).to_spark())"
   ]
  },
  {
   "cell_type": "code",
   "execution_count": 0,
   "metadata": {
    "application/vnd.databricks.v1+cell": {
     "cellMetadata": {
      "byteLimit": 2048000,
      "rowLimit": 10000
     },
     "inputWidgets": {},
     "nuid": "a00882fe-2afa-417a-9c41-e9cf05cef034",
     "showTitle": false,
     "title": ""
    }
   },
   "outputs": [
    {
     "output_type": "display_data",
     "data": {
      "text/html": [
       "<style scoped>\n",
       "  .ansiout {\n",
       "    display: block;\n",
       "    unicode-bidi: embed;\n",
       "    white-space: pre-wrap;\n",
       "    word-wrap: break-word;\n",
       "    word-break: break-all;\n",
       "    font-family: \"Menlo\", \"Monaco\", \"Consolas\", \"Ubuntu Mono\", \"Source Code Pro\", monospace;\n",
       "    font-size: 13px;\n",
       "    color: #555;\n",
       "    margin-left: 4px;\n",
       "    line-height: 19px;\n",
       "  }\n",
       "</style>\n",
       "<div class=\"ansiout\">OnDemandFeatureView &#39;late_ratio&#39;: Validating 1 of 2 dependencies. (1 already validated)\n",
       "    Transformation &#39;late_ratio&#39;: Successfully validated.\n",
       "OnDemandFeatureView &#39;late_ratio&#39;: Successfully validated.\n",
       "</div>"
      ]
     },
     "metadata": {
      "application/vnd.databricks.v1+output": {
       "addedWidgets": {},
       "arguments": {},
       "data": "<div class=\"ansiout\">OnDemandFeatureView &#39;late_ratio&#39;: Validating 1 of 2 dependencies. (1 already validated)\n    Transformation &#39;late_ratio&#39;: Successfully validated.\nOnDemandFeatureView &#39;late_ratio&#39;: Successfully validated.\n</div>",
       "datasetInfos": [],
       "metadata": {},
       "removedWidgets": [],
       "type": "html"
      }
     },
     "output_type": "display_data"
    }
   ],
   "source": [
    "request_schema = [Field(\"payment_timestamp\", String),Field(\"payment_due_timestamp\", String)]\n",
    "transaction_request = RequestSource(schema=request_schema)\n",
    "output_schema = [Field(\"late_payment_ratio\", Float64)]\n",
    "\n",
    "@on_demand_feature_view(\n",
    "   #fill in with parameters described above\n",
    "   sources=[transaction_request,payment_aggregates],\n",
    "   mode='python',\n",
    "   schema=output_schema\n",
    "\n",
    ")\n",
    "def late_ratio(transaction_request, payment_aggregates):\n",
    "    #definition goes here\n",
    "    payments = 0 if payment_aggregates['payment_id_count_3650d_1d'] is None else payment_aggregates['payment_id_count_3650d_1d']\n",
    "    late_payments = 0 if payment_aggregates['late_payment_sum_3650d_1d'] is None else payment_aggregates['late_payment_sum_3650d_1d']\n",
    "\n",
    "    return {'late_ratio': (late_payments+(datetime.strptime(transaction_request['payment_timestamp'],'%Y-%m-%dT%H:%M:%S.000+0000') > datetime.strptime(transaction_request['payment_due_timestamp'],'%Y-%m-%dT%H:%M:%S.000+0000')))/(1 + payments)}\n",
    "\n",
    "late_ratio.validate()"
   ]
  },
  {
   "cell_type": "code",
   "execution_count": 0,
   "metadata": {
    "application/vnd.databricks.v1+cell": {
     "cellMetadata": {
      "byteLimit": 2048000,
      "rowLimit": 10000
     },
     "inputWidgets": {},
     "nuid": "f18e8fb0-67ed-47d7-827d-14ce9646e142",
     "showTitle": false,
     "title": ""
    }
   },
   "outputs": [
    {
     "output_type": "display_data",
     "data": {
      "text/html": [
       "<style scoped>\n",
       "  .ansiout {\n",
       "    display: block;\n",
       "    unicode-bidi: embed;\n",
       "    white-space: pre-wrap;\n",
       "    word-wrap: break-word;\n",
       "    word-break: break-all;\n",
       "    font-family: \"Menlo\", \"Monaco\", \"Consolas\", \"Ubuntu Mono\", \"Source Code Pro\", monospace;\n",
       "    font-size: 13px;\n",
       "    color: #555;\n",
       "    margin-left: 4px;\n",
       "    line-height: 19px;\n",
       "  }\n",
       "</style>\n",
       "<div class=\"ansiout\"></div>"
      ]
     },
     "metadata": {
      "application/vnd.databricks.v1+output": {
       "addedWidgets": {},
       "arguments": {},
       "data": "<div class=\"ansiout\"></div>",
       "datasetInfos": [],
       "metadata": {},
       "removedWidgets": [],
       "type": "html"
      }
     },
     "output_type": "display_data"
    }
   ],
   "source": [
    "x = \"2023-07-25T00:00:00.000+0000\"\n",
    "y = \"2023-07-20T00:00:00.000+0000\""
   ]
  },
  {
   "cell_type": "code",
   "execution_count": 0,
   "metadata": {
    "application/vnd.databricks.v1+cell": {
     "cellMetadata": {
      "byteLimit": 2048000,
      "rowLimit": 10000
     },
     "inputWidgets": {},
     "nuid": "fc0a4419-0c98-4bcf-ab26-5fa5cc41dfe8",
     "showTitle": false,
     "title": ""
    }
   },
   "outputs": [
    {
     "output_type": "display_data",
     "data": {
      "text/html": [
       "<style scoped>\n",
       "  .ansiout {\n",
       "    display: block;\n",
       "    unicode-bidi: embed;\n",
       "    white-space: pre-wrap;\n",
       "    word-wrap: break-word;\n",
       "    word-break: break-all;\n",
       "    font-family: \"Menlo\", \"Monaco\", \"Consolas\", \"Ubuntu Mono\", \"Source Code Pro\", monospace;\n",
       "    font-size: 13px;\n",
       "    color: #555;\n",
       "    margin-left: 4px;\n",
       "    line-height: 19px;\n",
       "  }\n",
       "</style>\n",
       "<div class=\"ansiout\">Out[70]: {&#39;late_ratio&#39;: 0    1.0\n",
       " 1    0.5\n",
       " dtype: float64}</div>"
      ]
     },
     "metadata": {
      "application/vnd.databricks.v1+output": {
       "addedWidgets": {},
       "arguments": {},
       "data": "<div class=\"ansiout\">Out[70]: {&#39;late_ratio&#39;: 0    1.0\n 1    0.5\n dtype: float64}</div>",
       "datasetInfos": [],
       "metadata": {},
       "removedWidgets": [],
       "type": "html"
      }
     },
     "output_type": "display_data"
    }
   ],
   "source": [
    "late_ratio.run(transaction_request={\"payment_timestamp\":x,\"payment_due_timestamp\":y},payment_aggregates=z['late_payment_sum_3650d_1d', 'payment_id_count_3650d_1d'])"
   ]
  }
 ],
 "metadata": {
  "application/vnd.databricks.v1+notebook": {
   "dashboards": [],
   "language": "python",
   "notebookMetadata": {
    "mostRecentlyExecutedCommandWithImplicitDF": {
     "commandId": 3768395306736599,
     "dataframes": [
      "_sqldf"
     ]
    },
    "pythonIndentUnit": 4
   },
   "notebookName": "Tecton Ratio Features",
   "widgets": {}
  }
 },
 "nbformat": 4,
 "nbformat_minor": 0
}
