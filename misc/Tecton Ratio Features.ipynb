{
 "cells": [
  {
   "cell_type": "code",
   "execution_count": 0,
   "metadata": {
    "application/vnd.databricks.v1+cell": {
     "cellMetadata": {
      "byteLimit": 2048000,
      "rowLimit": 10000
     },
     "inputWidgets": {},
     "nuid": "972e1424-41ff-47fb-bd13-85d02da94d38",
     "showTitle": false,
     "title": ""
    }
   },
   "outputs": [],
   "source": [
    "import tecton \n",
    "import pandas\n",
    "\n",
    "from datetime import timedelta, datetime\n",
    "from tecton import Entity, BatchSource, batch_feature_view, spark_batch_config, Aggregation, RequestSource, on_demand_feature_view\n",
    "from tecton.types import Float64, Field, String\n",
    "\n",
    "tecton.set_credentials(tecton_api_key=dbutils.secrets.get(scope='tecton-lab-2', key='TECTON_API_KEY'),tecton_url=\"https://lab.tecton.ai/api\")\n",
    "ws = tecton.get_workspace('prod')"
   ]
  },
  {
   "cell_type": "code",
   "execution_count": 0,
   "metadata": {
    "application/vnd.databricks.v1+cell": {
     "cellMetadata": {
      "byteLimit": 2048000,
      "rowLimit": 10000
     },
     "inputWidgets": {},
     "nuid": "845b1c57-2723-40a5-9f48-fb21d2d0de92",
     "showTitle": false,
     "title": ""
    }
   },
   "outputs": [],
   "source": [
    "rows = [\n",
    "  {\n",
    "    \"user_id\": \"12345\",\n",
    "    \"payment_id\": \"54321\",\n",
    "    \"payment_date\": datetime(2023, 7, 25),\n",
    "    \"payment_due_date\": datetime(2023, 7, 20),\n",
    "    \"update_timestamp\": datetime(2023, 7, 25),\n",
    "    \"amt\": 10,\n",
    "  },\n",
    "  {\n",
    "    \"user_id\": \"12345\",\n",
    "    \"payment_id\": \"54320\",\n",
    "    \"payment_date\": datetime(2023, 7, 25),\n",
    "    \"payment_due_date\": datetime(2023, 7, 25),\n",
    "    \"update_timestamp\": datetime(2023, 7, 25),\n",
    "    \"amt\": 9,\n",
    "  },\n",
    "  {\n",
    "    \"user_id\": \"12345\",\n",
    "    \"payment_id\": \"54310\",\n",
    "    \"payment_date\": datetime(2023, 7, 25),\n",
    "    \"payment_due_date\": datetime(2023, 7, 25),\n",
    "    \"update_timestamp\": datetime(2023, 7, 25),\n",
    "    \"amt\": 8,\n",
    "  },\n",
    "  {\n",
    "    \"user_id\": \"10000\",\n",
    "    \"payment_id\": \"10101\",\n",
    "    \"payment_date\": datetime(2023, 7, 25),\n",
    "    \"payment_due_date\": datetime(2023, 7, 15),   \n",
    "    \"update_timestamp\": datetime(2023, 7, 25),\n",
    "    \"amt\": 7,\n",
    "  },\n",
    "  {\n",
    "    \"user_id\": \"10000\",\n",
    "    \"payment_id\": \"10102\",\n",
    "    \"payment_date\": datetime(2023, 7, 25),\n",
    "    \"payment_due_date\": datetime(2023, 7, 10),\n",
    "    \"update_timestamp\": datetime(2023, 7, 25),\n",
    "    \"amt\": 6,\n",
    "  },\n",
    "  {\n",
    "    \"user_id\": \"10000\",\n",
    "    \"payment_id\": \"10103\",\n",
    "    \"payment_date\": datetime(2023, 7, 25),\n",
    "    \"payment_due_date\": datetime(2023, 7, 5),\n",
    "    \"update_timestamp\": datetime(2023, 7, 25),\n",
    "    \"amt\": 5,\n",
    "  },\n",
    "]\n",
    "\n",
    "df_spark = spark.createDataFrame(pandas.DataFrame.from_records(rows))\n",
    "display(df_spark)"
   ]
  },
  {
   "cell_type": "code",
   "execution_count": 0,
   "metadata": {
    "application/vnd.databricks.v1+cell": {
     "cellMetadata": {
      "byteLimit": 2048000,
      "rowLimit": 10000
     },
     "inputWidgets": {},
     "nuid": "22ade7fc-2418-408e-bc48-215443fbf98c",
     "showTitle": false,
     "title": ""
    }
   },
   "outputs": [],
   "source": [
    "df_spark.createOrReplaceTempView(\"data\")"
   ]
  },
  {
   "cell_type": "code",
   "execution_count": 0,
   "metadata": {
    "application/vnd.databricks.v1+cell": {
     "cellMetadata": {
      "byteLimit": 2048000,
      "rowLimit": 10000
     },
     "inputWidgets": {},
     "nuid": "50f1160e-5b87-4e92-92ca-a9349d341626",
     "showTitle": false,
     "title": ""
    }
   },
   "outputs": [],
   "source": [
    "@spark_batch_config()\n",
    "def batch_config(spark):\n",
    "  return df_spark\n",
    "\n",
    "late_payments_source = BatchSource(\n",
    "    name='late_payments_source',\n",
    "    batch_config=batch_config\n",
    ")\n",
    "\n",
    "late_payments_source.validate()\n",
    "display(late_payments_source.get_dataframe().to_spark())"
   ]
  },
  {
   "cell_type": "code",
   "execution_count": 0,
   "metadata": {
    "application/vnd.databricks.v1+cell": {
     "cellMetadata": {
      "byteLimit": 2048000,
      "rowLimit": 10000
     },
     "inputWidgets": {},
     "nuid": "10586378-a8cb-4bb2-94fa-a62392ca871d",
     "showTitle": false,
     "title": ""
    }
   },
   "outputs": [],
   "source": [
    "user = Entity(\n",
    "    name=\"user\",\n",
    "    join_keys=[\"user_id\"],\n",
    ")\n",
    "user.validate()\n",
    "\n",
    "@batch_feature_view(\n",
    "    sources=[late_payments_source],\n",
    "    entities=[user],\n",
    "    mode='spark_sql',\n",
    "    batch_schedule=timedelta(days=1),\n",
    "    feature_start_time=datetime(2023,7,1),\n",
    "    timestamp_field=\"update_timestamp\"\n",
    ")\n",
    "def features(late_payments_source):\n",
    "  return f'''\n",
    "    select user_id, \n",
    "    payment_id,\n",
    "    amt, \n",
    "    update_timestamp\n",
    "    from {late_payments_source}\n",
    "  '''\n",
    "features.validate()"
   ]
  },
  {
   "cell_type": "code",
   "execution_count": 0,
   "metadata": {
    "application/vnd.databricks.v1+cell": {
     "cellMetadata": {
      "byteLimit": 2048000,
      "rowLimit": 10000
     },
     "inputWidgets": {},
     "nuid": "4cf1d0db-d3a5-40f3-ae56-e6b547be52f3",
     "showTitle": false,
     "title": ""
    }
   },
   "outputs": [],
   "source": [
    "@batch_feature_view(\n",
    "    sources=[late_payments_source],\n",
    "    entities=[user],\n",
    "    mode='spark_sql',\n",
    "    batch_schedule=timedelta(days=1),\n",
    "    aggregation_interval=timedelta(days=1),\n",
    "    aggregations=[\n",
    "        Aggregation(column='late_payment', function='sum', time_window=timedelta(days=365*10)),\n",
    "        Aggregation(column='payment_id', function='count', time_window=timedelta(days=365*10)),\n",
    "    ],\n",
    "    feature_start_time=datetime(2023,7,1),\n",
    "    timestamp_field=\"update_timestamp\"\n",
    ")\n",
    "def payment_aggregates(late_payments_source):\n",
    "  return f'''\n",
    "    select user_id, \n",
    "        payment_id, \n",
    "        CASE when datediff(payment_date, payment_due_date) > 0 THEN 1 ELSE 0 END as late_payment,\n",
    "        update_timestamp\n",
    "    from {late_payments_source}\n",
    "  '''\n",
    "payment_aggregates.validate()"
   ]
  },
  {
   "cell_type": "code",
   "execution_count": 0,
   "metadata": {
    "application/vnd.databricks.v1+cell": {
     "cellMetadata": {
      "byteLimit": 2048000,
      "implicitDf": true,
      "rowLimit": 10000
     },
     "inputWidgets": {},
     "nuid": "c1a9c7e7-c99b-4532-9d3e-f07eee342718",
     "showTitle": false,
     "title": ""
    }
   },
   "outputs": [],
   "source": [
    "%sql\n",
    "select *\n",
    "from data"
   ]
  },
  {
   "cell_type": "code",
   "execution_count": 0,
   "metadata": {
    "application/vnd.databricks.v1+cell": {
     "cellMetadata": {
      "byteLimit": 2048000,
      "implicitDf": true,
      "rowLimit": 10000
     },
     "inputWidgets": {},
     "nuid": "f6ce51a6-3679-42d8-a52a-4b3e30df00f8",
     "showTitle": false,
     "title": ""
    }
   },
   "outputs": [],
   "source": [
    "%sql\n",
    "select user_id, payment_id, CASE when datediff(payment_date, payment_due_date) > 0 THEN 1 ELSE 0 END as late_payment\n",
    "from data"
   ]
  },
  {
   "cell_type": "code",
   "execution_count": 0,
   "metadata": {
    "application/vnd.databricks.v1+cell": {
     "cellMetadata": {
      "byteLimit": 2048000,
      "rowLimit": 10000
     },
     "inputWidgets": {},
     "nuid": "82aa36b0-63bc-48f9-bdd1-b73c6dcccf00",
     "showTitle": false,
     "title": ""
    }
   },
   "outputs": [],
   "source": [
    "z = payment_aggregates.get_historical_features(start_time=datetime(2023, 1, 1), end_time=datetime(2023, 8, 1)).to_spark()\n",
    "display(payment_aggregates.get_historical_features(start_time=datetime(2023, 1, 1), end_time=datetime(2023, 8, 1)).to_spark())"
   ]
  },
  {
   "cell_type": "code",
   "execution_count": 0,
   "metadata": {
    "application/vnd.databricks.v1+cell": {
     "cellMetadata": {
      "byteLimit": 2048000,
      "rowLimit": 10000
     },
     "inputWidgets": {},
     "nuid": "a00882fe-2afa-417a-9c41-e9cf05cef034",
     "showTitle": false,
     "title": ""
    }
   },
   "outputs": [],
   "source": [
    "request_schema = [Field(\"payment_timestamp\", String),Field(\"payment_due_timestamp\", String)]\n",
    "transaction_request = RequestSource(schema=request_schema)\n",
    "output_schema = [Field(\"late_payment_ratio\", Float64)]\n",
    "\n",
    "@on_demand_feature_view(\n",
    "   sources=[transaction_request,payment_aggregates],\n",
    "   mode='python',\n",
    "   schema=output_schema\n",
    "\n",
    ")\n",
    "def late_ratio(transaction_request, payment_aggregates):\n",
    "    payments = 0 if payment_aggregates['payment_id_count_3650d_1d'] is None else payment_aggregates['payment_id_count_3650d_1d']\n",
    "    late_payments = 0 if payment_aggregates['late_payment_sum_3650d_1d'] is None else payment_aggregates['late_payment_sum_3650d_1d']\n",
    "\n",
    "    return {'late_ratio': (late_payments+(datetime.strptime(transaction_request['payment_timestamp'],'%Y-%m-%dT%H:%M:%S.000+0000') > datetime.strptime(transaction_request['payment_due_timestamp'],'%Y-%m-%dT%H:%M:%S.000+0000')))/(1 + payments)}\n",
    "\n",
    "late_ratio.validate()"
   ]
  },
  {
   "cell_type": "code",
   "execution_count": 0,
   "metadata": {
    "application/vnd.databricks.v1+cell": {
     "cellMetadata": {
      "byteLimit": 2048000,
      "rowLimit": 10000
     },
     "inputWidgets": {},
     "nuid": "f18e8fb0-67ed-47d7-827d-14ce9646e142",
     "showTitle": false,
     "title": ""
    }
   },
   "outputs": [],
   "source": [
    "x = \"2023-07-25T00:00:00.000+0000\"\n",
    "y = \"2023-07-20T00:00:00.000+0000\""
   ]
  },
  {
   "cell_type": "code",
   "execution_count": 0,
   "metadata": {
    "application/vnd.databricks.v1+cell": {
     "cellMetadata": {
      "byteLimit": 2048000,
      "rowLimit": 10000
     },
     "inputWidgets": {},
     "nuid": "fc0a4419-0c98-4bcf-ab26-5fa5cc41dfe8",
     "showTitle": false,
     "title": ""
    }
   },
   "outputs": [],
   "source": [
    "late_ratio.run(transaction_request={\"payment_timestamp\":x,\"payment_due_timestamp\":y},payment_aggregates=z['late_payment_sum_3650d_1d', 'payment_id_count_3650d_1d'])"
   ]
  },
  {
   "cell_type": "code",
   "execution_count": 0,
   "metadata": {
    "application/vnd.databricks.v1+cell": {
     "cellMetadata": {
      "byteLimit": 2048000,
      "rowLimit": 10000
     },
     "inputWidgets": {},
     "nuid": "46ddef61-015e-49b2-8213-4a44f6bcb488",
     "showTitle": false,
     "title": ""
    }
   },
   "outputs": [],
   "source": [
    "late_ratio.run(transaction_request={\"payment_timestamp\":y,\"payment_due_timestamp\":x},payment_aggregates=z['late_payment_sum_3650d_1d', 'payment_id_count_3650d_1d'])"
   ]
  },
  {
   "cell_type": "code",
   "execution_count": 0,
   "metadata": {
    "application/vnd.databricks.v1+cell": {
     "cellMetadata": {},
     "inputWidgets": {},
     "nuid": "62328852-78ab-4f60-8bb3-291af205a9fb",
     "showTitle": false,
     "title": ""
    }
   },
   "outputs": [],
   "source": []
  }
 ],
 "metadata": {
  "application/vnd.databricks.v1+notebook": {
   "dashboards": [],
   "language": "python",
   "notebookMetadata": {
    "mostRecentlyExecutedCommandWithImplicitDF": {
     "commandId": 3768395306736599,
     "dataframes": [
      "_sqldf"
     ]
    },
    "pythonIndentUnit": 4
   },
   "notebookName": "Tecton Ratio Features",
   "widgets": {}
  }
 },
 "nbformat": 4,
 "nbformat_minor": 0
}
