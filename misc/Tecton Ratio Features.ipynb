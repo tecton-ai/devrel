{
 "cells": [
  {
   "cell_type": "code",
   "execution_count": 0,
   "metadata": {
    "application/vnd.databricks.v1+cell": {
     "cellMetadata": {
      "byteLimit": 2048000,
      "rowLimit": 10000
     },
     "inputWidgets": {},
     "nuid": "972e1424-41ff-47fb-bd13-85d02da94d38",
     "showTitle": false,
     "title": ""
    }
   },
   "outputs": [],
   "source": [
    "import tecton \n",
    "import pandas\n",
    "\n",
    "from datetime import timedelta, datetime\n",
    "from tecton import Entity, BatchSource, batch_feature_view, spark_batch_config, Aggregation, RequestSource, on_demand_feature_view\n",
    "from tecton.types import Float64, Field, String\n",
    "\n",
    "# This notebook uses Tecton and Databricks\n",
    "# Learn more on connecting Tecton to a Databricks notebook at this link\n",
    "# https://docs.tecton.ai/docs/setting-up-tecton/connecting-to-a-data-platform/tecton-on-databricks/connecting-databricks-notebooks\n",
    "\n",
    "tecton.set_credentials(tecton_api_key=dbutils.secrets.get(scope='YOUR-TECTON-SCOPE', key='TECTON_API_KEY'),tecton_url=\"YOUR_TECTON_URL\")\n",
    "ws = tecton.get_workspace('prod')"
   ]
  },
  {
   "cell_type": "code",
   "execution_count": 0,
   "metadata": {
    "application/vnd.databricks.v1+cell": {
     "cellMetadata": {
      "byteLimit": 2048000,
      "rowLimit": 10000
     },
     "inputWidgets": {},
     "nuid": "845b1c57-2723-40a5-9f48-fb21d2d0de92",
     "showTitle": false,
     "title": ""
    }
   },
   "outputs": [],
   "source": [
    "# Create an example data set to use with Tecton\n",
    "rows = [\n",
    "  {\n",
    "    \"user_id\": \"10000\",\n",
    "    \"payment_id\": \"10103\",\n",
    "    \"payment_date\": datetime(2023, 7, 25),\n",
    "    \"payment_due_date\": datetime(2023, 7, 5),\n",
    "    \"update_timestamp\": datetime(2023, 7, 25),\n",
    "    \"amt\": 5,\n",
    "  },\n",
    "  {\n",
    "    \"user_id\": \"10000\",\n",
    "    \"payment_id\": \"10102\",\n",
    "    \"payment_date\": datetime(2023, 7, 25),\n",
    "    \"payment_due_date\": datetime(2023, 7, 10),\n",
    "    \"update_timestamp\": datetime(2023, 7, 25),\n",
    "    \"amt\": 6,\n",
    "  },\n",
    "  {\n",
    "    \"user_id\": \"10000\",\n",
    "    \"payment_id\": \"10101\",\n",
    "    \"payment_date\": datetime(2023, 7, 25),\n",
    "    \"payment_due_date\": datetime(2023, 7, 15),   \n",
    "    \"update_timestamp\": datetime(2023, 7, 25),\n",
    "    \"amt\": 7,\n",
    "  },\n",
    "  {\n",
    "    \"user_id\": \"12345\",\n",
    "    \"payment_id\": \"54310\",\n",
    "    \"payment_date\": datetime(2023, 7, 25),\n",
    "    \"payment_due_date\": datetime(2023, 7, 25),\n",
    "    \"update_timestamp\": datetime(2023, 7, 25),\n",
    "    \"amt\": 8,\n",
    "  },\n",
    "  {\n",
    "    \"user_id\": \"12345\",\n",
    "    \"payment_id\": \"54320\",\n",
    "    \"payment_date\": datetime(2023, 7, 25),\n",
    "    \"payment_due_date\": datetime(2023, 7, 25),\n",
    "    \"update_timestamp\": datetime(2023, 7, 25),\n",
    "    \"amt\": 9,\n",
    "  },\n",
    "  {\n",
    "    \"user_id\": \"12345\",\n",
    "    \"payment_id\": \"54321\",\n",
    "    \"payment_date\": datetime(2023, 7, 25),\n",
    "    \"payment_due_date\": datetime(2023, 7, 20),\n",
    "    \"update_timestamp\": datetime(2023, 7, 25),\n",
    "    \"amt\": 10,\n",
    "  },\n",
    "]\n",
    "\n",
    "df_spark = spark.createDataFrame(pandas.DataFrame.from_records(rows))\n",
    "display(df_spark)"
   ]
  },
  {
   "cell_type": "code",
   "execution_count": 0,
   "metadata": {
    "application/vnd.databricks.v1+cell": {
     "cellMetadata": {
      "byteLimit": 2048000,
      "rowLimit": 10000
     },
     "inputWidgets": {},
     "nuid": "22ade7fc-2418-408e-bc48-215443fbf98c",
     "showTitle": false,
     "title": ""
    }
   },
   "outputs": [],
   "source": [
    "df_spark.createOrReplaceTempView(\"data\")"
   ]
  },
  {
   "cell_type": "code",
   "execution_count": 0,
   "metadata": {
    "application/vnd.databricks.v1+cell": {
     "cellMetadata": {
      "byteLimit": 2048000,
      "rowLimit": 10000
     },
     "inputWidgets": {},
     "nuid": "50f1160e-5b87-4e92-92ca-a9349d341626",
     "showTitle": false,
     "title": ""
    }
   },
   "outputs": [],
   "source": [
    "# Register previously created Spark DataFrame as a Tecton source\n",
    "\n",
    "@spark_batch_config()\n",
    "def batch_config(spark):\n",
    "  return df_spark\n",
    "\n",
    "late_payments_source = BatchSource(\n",
    "    name='late_payments_source',\n",
    "    batch_config=batch_config\n",
    ")\n",
    "\n",
    "late_payments_source.validate()\n",
    "display(late_payments_source.get_dataframe().to_spark())"
   ]
  },
  {
   "cell_type": "code",
   "execution_count": 0,
   "metadata": {
    "application/vnd.databricks.v1+cell": {
     "cellMetadata": {
      "byteLimit": 2048000,
      "rowLimit": 10000
     },
     "inputWidgets": {},
     "nuid": "4cf1d0db-d3a5-40f3-ae56-e6b547be52f3",
     "showTitle": false,
     "title": ""
    }
   },
   "outputs": [],
   "source": [
    "# This cell defines a Tecton Feature View with 2 lifetime aggregates\n",
    "# In line 11, we create a running count of the number of late payments for each user\n",
    "# In line 12, we track the total payments each user has made\n",
    "\n",
    "@batch_feature_view(\n",
    "    sources=[late_payments_source],\n",
    "    entities=[user],\n",
    "    mode='spark_sql',\n",
    "    batch_schedule=timedelta(days=1),\n",
    "    aggregation_interval=timedelta(days=1),\n",
    "    aggregations=[\n",
    "        Aggregation(column='late_payment', function='sum', time_window=timedelta(days=365*10)),\n",
    "        Aggregation(column='payment_id', function='count', time_window=timedelta(days=365*10)),\n",
    "    ],\n",
    "    feature_start_time=datetime(2023,7,1),\n",
    "    timestamp_field=\"update_timestamp\"\n",
    ")\n",
    "def payment_aggregates(late_payments_source):\n",
    "  return f'''\n",
    "    select user_id, \n",
    "        payment_id, \n",
    "        CASE when datediff(payment_date, payment_due_date) > 0 THEN 1 ELSE 0 END as late_payment,\n",
    "        update_timestamp\n",
    "    from {late_payments_source}\n",
    "  '''\n",
    "payment_aggregates.validate()"
   ]
  },
  {
   "cell_type": "code",
   "execution_count": 0,
   "metadata": {
    "application/vnd.databricks.v1+cell": {
     "cellMetadata": {
      "byteLimit": 2048000,
      "implicitDf": true,
      "rowLimit": 10000
     },
     "inputWidgets": {},
     "nuid": "f6ce51a6-3679-42d8-a52a-4b3e30df00f8",
     "showTitle": false,
     "title": ""
    }
   },
   "outputs": [],
   "source": [
    "# Query used by Tecton to aggregate late payments\n",
    "%sql\n",
    "select payment_date,\n",
    "payment_due_date,\n",
    "CASE when datediff(payment_date, payment_due_date) > 0 THEN 1 ELSE 0 END as late_payment\n",
    "from data"
   ]
  },
  {
   "cell_type": "code",
   "execution_count": 0,
   "metadata": {
    "application/vnd.databricks.v1+cell": {
     "cellMetadata": {
      "byteLimit": 2048000,
      "rowLimit": 10000
     },
     "inputWidgets": {},
     "nuid": "82aa36b0-63bc-48f9-bdd1-b73c6dcccf00",
     "showTitle": false,
     "title": ""
    }
   },
   "outputs": [],
   "source": [
    "# Build features that calculate the aggregates defined\n",
    "# Each user has made 3 payments, one user has 3 late payments, one has 1\n",
    "\n",
    "dataset_aggregates = payment_aggregates.get_historical_features(start_time=datetime(2023, 1, 1), end_time=datetime(2023, 8, 1)).to_spark()\n",
    "display(dataset_aggregates)"
   ]
  },
  {
   "cell_type": "code",
   "execution_count": 0,
   "metadata": {
    "application/vnd.databricks.v1+cell": {
     "cellMetadata": {
      "byteLimit": 2048000,
      "rowLimit": 10000
     },
     "inputWidgets": {},
     "nuid": "cc2a6a94-60b6-4fb1-b536-8e96d572b01c",
     "showTitle": false,
     "title": ""
    }
   },
   "outputs": [],
   "source": [
    "# Define the schema for the request data\n",
    "request_schema = [\n",
    "    Field(\"payment_timestamp\", String),\n",
    "    Field(\"payment_due_timestamp\", String)\n",
    "]\n",
    "\n",
    "# Create a RequestSource object with the defined schema\n",
    "transaction_request = RequestSource(schema=request_schema)\n",
    "\n",
    "# Define the schema for the output data\n",
    "output_schema = [Field(\"late_payment_ratio\", Float64)]\n",
    "\n",
    "# Define the on-demand feature view function\n",
    "@on_demand_feature_view(\n",
    "    # Parameters are filled in as described above\n",
    "    sources=[transaction_request, payment_aggregates],\n",
    "    mode='python',\n",
    "    schema=output_schema\n",
    ")\n",
    "def late_ratio(transaction_request, payment_aggregates):\n",
    "    \"\"\"\n",
    "    Calculate the ratio of late payments.\n",
    "    \n",
    "    Args:\n",
    "        transaction_request (dict): The transaction request data.\n",
    "        payment_aggregates (dict): The payment aggregates data.\n",
    "\n",
    "    Returns:\n",
    "        dict: A dictionary with the 'late_ratio' key and the calculated ratio as value.\n",
    "    \"\"\"\n",
    "    \n",
    "    # Default to 0 if the aggregate count is None, otherwise use the provided count\n",
    "    payments = payment_aggregates.get('payment_id_count_3650d_1d', 0)\n",
    "    late_payments = payment_aggregates.get('late_payment_sum_3650d_1d', 0)\n",
    "\n",
    "    # Check if the current payment is late and add it to the late payments count\n",
    "    is_current_payment_late = (\n",
    "        datetime.strptime(transaction_request['payment_timestamp'], '%Y-%m-%dT%H:%M:%S.000+0000') > \n",
    "        datetime.strptime(transaction_request['payment_due_timestamp'], '%Y-%m-%dT%H:%M:%S.000+0000')\n",
    "    )\n",
    "    \n",
    "    # Calculate the late payment ratio\n",
    "    late_ratio_value = (late_payments + is_current_payment_late) / (1 + payments)\n",
    "    \n",
    "    # Return the result in the expected output format\n",
    "    return {'late_payment_ratio': late_ratio_value}\n",
    "late_ratio.validate()\n"
   ]
  },
  {
   "cell_type": "code",
   "execution_count": 0,
   "metadata": {
    "application/vnd.databricks.v1+cell": {
     "cellMetadata": {
      "byteLimit": 2048000,
      "rowLimit": 10000
     },
     "inputWidgets": {},
     "nuid": "f18e8fb0-67ed-47d7-827d-14ce9646e142",
     "showTitle": false,
     "title": ""
    }
   },
   "outputs": [],
   "source": [
    "# Two new timestamps that we can send to the OFDV that mock a new payment\n",
    "request_payment_date = \"2023-07-25T00:00:00.000+0000\"\n",
    "request_due_date = \"2023-07-20T00:00:00.000+0000\""
   ]
  },
  {
   "cell_type": "code",
   "execution_count": 0,
   "metadata": {
    "application/vnd.databricks.v1+cell": {
     "cellMetadata": {
      "byteLimit": 2048000,
      "rowLimit": 10000
     },
     "inputWidgets": {},
     "nuid": "fc0a4419-0c98-4bcf-ab26-5fa5cc41dfe8",
     "showTitle": false,
     "title": ""
    }
   },
   "outputs": [],
   "source": [
    "# Run feature view transformation pipeline with mock inputs\n",
    "# and aggregated dataset\n",
    "\n",
    "late_ratio.run(\n",
    "    transaction_request={\n",
    "        \"payment_timestamp\":request_payment_date,\n",
    "        \"payment_due_timestamp\":request_due_date\n",
    "    },\n",
    "    payment_aggregates=dataset_aggregates['late_payment_sum_3650d_1d', 'payment_id_count_3650d_1d']\n",
    ")\n",
    "\n",
    "# Ratio was at 3/3 late payments for user 0,\n",
    "# 1/3 late payments for user 1\n",
    "#\n",
    "# Additional late payment bring ratios to 1.0 (4/4) and 0.5 (2/4), respectively "
   ]
  },
  {
   "cell_type": "code",
   "execution_count": 0,
   "metadata": {
    "application/vnd.databricks.v1+cell": {
     "cellMetadata": {
      "byteLimit": 2048000,
      "rowLimit": 10000
     },
     "inputWidgets": {},
     "nuid": "46ddef61-015e-49b2-8213-4a44f6bcb488",
     "showTitle": false,
     "title": ""
    }
   },
   "outputs": [],
   "source": [
    "# Reversing timestamps similates an on-time payment\n",
    " \n",
    "late_ratio.run(\n",
    "    transaction_request={\n",
    "        \"payment_timestamp\":request_due_date,\n",
    "        \"payment_due_timestamp\":request_payment_date\n",
    "    },\n",
    "    payment_aggregates=dataset_aggregates['late_payment_sum_3650d_1d', 'payment_id_count_3650d_1d']\n",
    ")\n",
    "\n",
    "# Additional late payment bring ratios to .75 (3/4) and 0.25 (1/4), respectively "
   ]
  }
 ],
 "metadata": {
  "application/vnd.databricks.v1+notebook": {
   "dashboards": [],
   "language": "python",
   "notebookMetadata": {
    "mostRecentlyExecutedCommandWithImplicitDF": {
     "commandId": 3768395306736599,
     "dataframes": [
      "_sqldf"
     ]
    },
    "pythonIndentUnit": 4
   },
   "notebookName": "Tecton Ratio Features",
   "widgets": {}
  }
 },
 "nbformat": 4,
 "nbformat_minor": 0
}
