{
  "cells": [
    {
      "cell_type": "markdown",
      "id": "c4e13d43-e316-4067-837f-6bbc492b4d3d",
      "metadata": {
        "id": "c4e13d43-e316-4067-837f-6bbc492b4d3d"
      },
      "source": [
        "# Tecton Rules and Heuristics"
      ]
    },
    {
      "cell_type": "markdown",
      "id": "73eede12-0f02-4a8e-9ce6-1758ffb70e1b",
      "metadata": {
        "id": "73eede12-0f02-4a8e-9ce6-1758ffb70e1b"
      },
      "source": [
        "Create rules and heuristics to supplement or circumvent machine learning models with Tecton.\n",
        "\n",
        "This notebook runs on Tecton using Rift. Request a private preview of Rift [here](https://resources.tecton.ai/rift).\n",
        "\n",
        "This notebook needs a Tecton account and API Key to run."
      ]
    },
    {
      "cell_type": "code",
      "execution_count": null,
      "id": "1bb4f181-543c-4b70-a604-e869d74d157b",
      "metadata": {
        "id": "1bb4f181-543c-4b70-a604-e869d74d157b"
      },
      "outputs": [],
      "source": [
        "import tecton, os\n",
        "import pandas as pd\n",
        "from pprint import pprint\n",
        "\n",
        "tecton.set_credentials(tecton_api_key='YOUR TECTON API KEY')"
      ]
    },
    {
      "cell_type": "markdown",
      "id": "b7e0f1de-712d-4ba6-b63b-cf6543ec4854",
      "metadata": {
        "id": "b7e0f1de-712d-4ba6-b63b-cf6543ec4854"
      },
      "source": [
        "## Tecton Rules\n",
        "\n",
        "In this section, Tecton ODFVs are used to create rules that are bundled together in a Feature Service before being tested with a mocked input."
      ]
    },
    {
      "cell_type": "code",
      "execution_count": null,
      "id": "cf44bac0",
      "metadata": {
        "id": "cf44bac0"
      },
      "outputs": [],
      "source": [
        "from tecton import RequestSource, on_demand_feature_view, FeatureService\n",
        "from tecton.types import Float64, Int64, Field, Bool, String\n",
        "\n",
        "# Input sent to each rule will have the following schema\n",
        "# A mock example is in the next cell\n",
        "loan_request = RequestSource(\n",
        "    schema=[\n",
        "        Field('loan_request_amount', Float64),\n",
        "        Field('user_credit_score', Int64),\n",
        "        Field('user_dob', String),\n",
        "        Field('user_state', String)\n",
        "    ]\n",
        ")\n",
        "\n",
        "@on_demand_feature_view(\n",
        "    sources=[loan_request],                                                         # Input defined above\n",
        "    mode='python',                                                                  # Feature is to be transformed using Python\n",
        "    schema=[Field('request_within_limits', Bool)],                                  # Output will be a Bool, pass/fail for each rule\n",
        "    description='The loan request amount is higher than min and lower than max',\n",
        "    tags={'feature_type': 'rule'}                                                   # Custom tag to distinguish and manage rules\n",
        ")\n",
        "def request_within_limits(loan_request):                                            # Rule definition\n",
        "    min_loan_amount=1000\n",
        "    max_loan_amount=1000000\n",
        "    return {'request_within_limits': loan_request['loan_request_amount'] > min_loan_amount and loan_request['loan_request_amount'] < max_loan_amount}\n",
        "\n",
        "@on_demand_feature_view(\n",
        "    sources=[loan_request],\n",
        "    mode='python',\n",
        "    schema=[Field('request_credit_check', Bool)],\n",
        "    description='The loan requesters credit is higher than min',\n",
        "    tags={'feature_type': 'rule'}\n",
        ")\n",
        "def request_credit_check(loan_request):\n",
        "    min_credit_score = 400\n",
        "    return {'request_credit_check': loan_request['user_credit_score'] > min_credit_score}\n",
        "\n",
        "@on_demand_feature_view(\n",
        "    sources=[loan_request],\n",
        "    mode='python',\n",
        "    schema=[Field('request_age_check', Bool)],\n",
        "    description='The loan requests age is older than 18',\n",
        "    tags={'feature_type': 'rule'}\n",
        ")\n",
        "def request_age_check(loan_request):\n",
        "    from datetime import datetime                                                   # Import custom library to run within ODFV\n",
        "    return {'request_age_check': (datetime.now() - datetime.strptime(loan_request['user_dob'], '%m/%d/%Y')).days / 365.2425  > 18}\n",
        "\n",
        "@on_demand_feature_view(\n",
        "    sources=[loan_request],\n",
        "    mode='python',\n",
        "    schema=[Field('request_residence_check', Bool)],\n",
        "    description='The loan request is coming from a coverage area',\n",
        "    tags={'feature_type': 'rule'}\n",
        ")\n",
        "def request_residence_check(loan_request):\n",
        "    states = ['CA', 'NY']\n",
        "    return {'request_residence_check': loan_request['user_state'] in states}\n",
        "\n",
        "rules_fs = FeatureService(                                                          # Group rules into Feature Service and validate them\n",
        "    name = 'rules_fs',\n",
        "    features = [\n",
        "        request_within_limits,\n",
        "        request_credit_check,\n",
        "        request_age_check,\n",
        "        request_residence_check\n",
        "    ]\n",
        ")\n",
        "\n",
        "rules_fs.validate()"
      ]
    },
    {
      "cell_type": "code",
      "execution_count": null,
      "id": "43eadb73",
      "metadata": {
        "id": "43eadb73"
      },
      "outputs": [],
      "source": [
        "# Mock request, try changing to pass and fail each rule\n",
        "\n",
        "mock_loan_request = {\n",
        "    \"loan_request_amount\" : 5000,\n",
        "    \"user_credit_score\" : 500,\n",
        "    \"user_dob\" : \"01/01/1990\",\n",
        "    \"user_state\" : \"TX\"                # Not in accepted states of [CA, NY] and will break rule\n",
        "}"
      ]
    },
    {
      "cell_type": "code",
      "execution_count": null,
      "id": "8784f03d",
      "metadata": {
        "id": "8784f03d"
      },
      "outputs": [],
      "source": [
        "for rule in rules_fs.features:\n",
        "    if list(rule.feature_definition.run(loan_request=mock_loan_request).values())[0]:\n",
        "        print(\"Request passes rule \" + rule.feature_definition.info.name)\n",
        "    else:\n",
        "        print(\"Request valiates rule \" + rule.feature_definition.info.name)"
      ]
    },
    {
      "cell_type": "markdown",
      "id": "633d414e-eab6-42a8-b5ad-29dd11b509c7",
      "metadata": {
        "id": "633d414e-eab6-42a8-b5ad-29dd11b509c7"
      },
      "source": [
        "## Creating a mock data set\n",
        "\n",
        "Historical information on loan acceptance will be used to build heuristics and features.\n",
        "\n",
        "The data is similar to the mock request used to check rule adherence, but has associated user_id, timestamps, and historical results. The data has the following schema:\n",
        "\n",
        " * user_id\n",
        " * loan_request_amount\n",
        " * user_dob\n",
        " * user_credit_score\n",
        " * user_state_of_residence\n",
        " * request_timestamp\n",
        " * loan_result\n",
        "\n",
        "`display(loan_ghf)` will show the mocked data with additional Features Tecton created"
      ]
    },
    {
      "cell_type": "code",
      "execution_count": null,
      "id": "07c6e315",
      "metadata": {
        "id": "07c6e315"
      },
      "outputs": [],
      "source": [
        "from tecton import FilteredSource, Entity, batch_feature_view, FileConfig, BatchSource\n",
        "from datetime import datetime, timedelta\n",
        "\n",
        "from tecton.types import Float64, Field, String, Int64, Timestamp\n",
        "\n",
        "\n",
        "user = Entity(\n",
        "    name=\"user\",\n",
        "    join_keys=[\"user_id\"],\n",
        ")\n",
        "user.validate()\n",
        "\n",
        "loan_history = BatchSource(\n",
        "    name='loan_history',\n",
        "    batch_config=FileConfig(\n",
        "        uri='s3://tecton-devrel-rift/loan_history.parquet',\n",
        "        file_format='parquet',\n",
        "        timestamp_field='request_timestamp'\n",
        "    )\n",
        ")\n",
        "\n",
        "@batch_feature_view(\n",
        "    sources=[loan_history],\n",
        "    entities=[user],\n",
        "    mode='pandas',\n",
        "    batch_schedule=timedelta(days=1),\n",
        "    feature_start_time=datetime(2023,1,1),\n",
        "    schema=[\n",
        "        Field(\"user_id\", String),\n",
        "        Field(\"request_timestamp\", Timestamp),\n",
        "        Field(\"loan_request_amount\", Int64),\n",
        "        Field(\"loan_rank\", Float64),\n",
        "        Field(\"user_credit_score\", Int64),\n",
        "        Field(\"credit_rank\", Float64),\n",
        "        Field(\"loan_result\", String),\n",
        "    ]\n",
        ")\n",
        "def loan_percentiles(loan_history):\n",
        "    from scipy import stats\n",
        "\n",
        "    loan_history[\"loan_rank\"] = pd.Series(stats.percentileofscore(loan_history['loan_request_amount'], loan_history['loan_request_amount']))\n",
        "    loan_history[\"credit_rank\"] = pd.Series(stats.percentileofscore(loan_history['user_credit_score'], loan_history['user_credit_score']))\n",
        "    return loan_history[[\"user_id\",\"request_timestamp\",\"loan_request_amount\", \"loan_rank\", \"user_credit_score\",\"credit_rank\", \"loan_result\"]]\n",
        "\n",
        "loan_percentiles.validate()"
      ]
    },
    {
      "cell_type": "code",
      "execution_count": null,
      "id": "49f81b63",
      "metadata": {
        "id": "49f81b63"
      },
      "outputs": [],
      "source": [
        "start = datetime(2023,1,1)\n",
        "end = datetime(2023,6,1)\n",
        "\n",
        "loan_ghf = loan_percentiles.get_historical_features(start_time=start, end_time=end).to_pandas()\n",
        "display(loan_ghf)"
      ]
    },
    {
      "cell_type": "markdown",
      "source": [
        "## Tecton Heuristics\n",
        "\n",
        "A Tecton ODFV is used for both rules and heurstics, for rules only request data was necessary, but our heuristic will need both incoming request data and historical data (the mock data just created) to compare it to."
      ],
      "metadata": {
        "id": "yqMpH5oxZKEr"
      },
      "id": "yqMpH5oxZKEr"
    },
    {
      "cell_type": "code",
      "execution_count": null,
      "id": "6e791978",
      "metadata": {
        "id": "6e791978"
      },
      "outputs": [],
      "source": [
        "from tecton import RequestSource, on_demand_feature_view\n",
        "from tecton.types import Bool\n",
        "\n",
        "# Define the schema for the input\n",
        "heuristic_schema = [\n",
        "    Field(\"loan_request_amount\", Int64),\n",
        "    Field(\"user_credit_score\", Int64),\n",
        "    Field(\"user_dob\", String),\n",
        "    Field(\"user_state\", String)\n",
        "]\n",
        "\n",
        "# Create a RequestSource object with the defined schema\n",
        "heuristic_request = RequestSource(schema=heuristic_schema)\n",
        "\n",
        "# Define the schema for the output data, accept_loan is our heuristic\n",
        "output_schema = [\n",
        "    Field(\"loan_rank\", Float64),\n",
        "    Field(\"credit_rank\", Float64),\n",
        "    Field(\"accept_loan\", Bool),\n",
        "]\n",
        "\n",
        "# Define the on-demand feature view function\n",
        "@on_demand_feature_view(\n",
        "    sources=[heuristic_request, loan_percentiles],                  # Rules in the prev section took in a single source, our heuristic needs two\n",
        "    mode='python',\n",
        "    schema=output_schema\n",
        ")\n",
        "def loan_odfv(heuristic_request, loan_percentiles):\n",
        "    from scipy import stats\n",
        "\n",
        "    loan_rank = stats.percentileofscore(loan_percentiles['loan_request_amount'], heuristic_request[\"loan_request_amount\"])\n",
        "    credit_rank = stats.percentileofscore(loan_percentiles['user_credit_score'], heuristic_request[\"user_credit_score\"])\n",
        "    return {\n",
        "        'loan_rank': loan_rank,\n",
        "        'credit_rank': credit_rank,\n",
        "        'heuristic_accept_loan': loan_rank <= credit_rank           # is the credit of the requester in a higher percentile of our data\n",
        "    }                                                               # than the percentile of the amount of the loan?\n",
        "loan_odfv.validate()"
      ]
    },
    {
      "cell_type": "markdown",
      "source": [
        "## Tecton Machine Learning\n",
        "\n",
        "A logistic regression model is now trained with the Tecton features previous created"
      ],
      "metadata": {
        "id": "icNFIrwraOYU"
      },
      "id": "icNFIrwraOYU"
    },
    {
      "cell_type": "code",
      "execution_count": null,
      "id": "bfa0c9a9",
      "metadata": {
        "id": "bfa0c9a9"
      },
      "outputs": [],
      "source": [
        "from sklearn.linear_model import LogisticRegression\n",
        "from sklearn.model_selection import train_test_split\n",
        "from sklearn import metrics\n",
        "\n",
        "\n",
        "training_data = loan_ghf[[ \"loan_rank\", \"credit_rank\",\"loan_result\"]]\n",
        "\n",
        "X = training_data.drop(\"loan_result\", axis=1)\n",
        "y = training_data[\"loan_result\"].replace({\"accepted\": 1, \"rejected\": 0})\n",
        "\n",
        "X_train, X_test, y_train, y_test = train_test_split(X, y, test_size=0.3, random_state=42)\n",
        "\n",
        "model = LogisticRegression(max_iter=1000, random_state=42)\n",
        "\n",
        "model.fit(X_train, y_train)\n",
        "\n",
        "y_predict = model.predict(X_test)\n",
        "\n",
        "print(metrics.classification_report(y_test, y_predict, zero_division=0))"
      ]
    },
    {
      "cell_type": "markdown",
      "source": [
        "## Putting everything together\n",
        "\n",
        "`loan_assessment()` will run all three decision-making paradigms we just created with Tecton. Try changing the mock request and rerunning."
      ],
      "metadata": {
        "id": "4sYHN7Lydiyg"
      },
      "id": "4sYHN7Lydiyg"
    },
    {
      "cell_type": "code",
      "execution_count": null,
      "id": "09df1198",
      "metadata": {
        "id": "09df1198"
      },
      "outputs": [],
      "source": [
        "def loan_assessment(new_request):\n",
        "    for rule in rules_fs.features:\n",
        "        if list(rule.feature_definition.run(loan_request=new_request).values())[0]:\n",
        "            continue\n",
        "        else:\n",
        "            return \"Loan is rejected. Request valiates rule \" + rule.feature_definition.info.name\n",
        "    print(\"Request passes all rules\")\n",
        "\n",
        "    request_result = loan_odfv.run(heuristic_request=new_request,loan_percentiles=loan_ghf[['loan_request_amount','user_credit_score','loan_rank', 'credit_rank', 'loan_result']])\n",
        "\n",
        "    if request_result[\"heuristic_accept_loan\"]:\n",
        "        print(\"Heuristic accepts loan\")\n",
        "    else:\n",
        "        return \"Heuristic rejects loan\"\n",
        "    if model.predict([[request_result[\"loan_rank\"],request_result[\"credit_rank\"]]]):\n",
        "        print(\"ML Model accepts loan\")\n",
        "    else:\n",
        "        return \"ML Model rejects loan\"\n",
        "\n",
        "    return \"Request passes all checks, loan accepted\""
      ]
    },
    {
      "cell_type": "code",
      "execution_count": null,
      "id": "05c7162c",
      "metadata": {
        "id": "05c7162c"
      },
      "outputs": [],
      "source": [
        "mock_request = {\n",
        "    \"loan_request_amount\" : 5000,\n",
        "    \"user_credit_score\" : 500,\n",
        "    \"user_dob\" : \"01/01/1990\",\n",
        "    \"user_state\" : \"CA\"\n",
        "}\n",
        "\n",
        "loan_assessment(mock_request)"
      ]
    }
  ],
  "metadata": {
    "kernelspec": {
      "display_name": "Python 3 (ipykernel)",
      "language": "python",
      "name": "python3"
    },
    "language_info": {
      "codemirror_mode": {
        "name": "ipython",
        "version": 3
      },
      "file_extension": ".py",
      "mimetype": "text/x-python",
      "name": "python",
      "nbconvert_exporter": "python",
      "pygments_lexer": "ipython3",
      "version": "3.12.0"
    },
    "colab": {
      "provenance": []
    }
  },
  "nbformat": 4,
  "nbformat_minor": 5
}